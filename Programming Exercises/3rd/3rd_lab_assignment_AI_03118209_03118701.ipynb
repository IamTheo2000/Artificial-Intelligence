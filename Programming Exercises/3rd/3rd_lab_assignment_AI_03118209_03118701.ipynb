{
 "cells": [
  {
   "cell_type": "markdown",
   "metadata": {
    "id": "K2CYQhbxW9nP"
   },
   "source": [
    "### Μέλη Ομάδας:\n",
    "Ον/μο1:  Σωτήρου Θεόδωρος\n",
    "Αρ. Μητρώου 1:  03118209\n",
    "\n",
    "Ον/μο2:  Χατζησάββας Αντρέας\n",
    "Αρ. Μητρώου 2:  03118701"
   ]
  },
  {
   "cell_type": "markdown",
   "metadata": {
    "id": "heT7siZWZjQD"
   },
   "source": [
    "# Τεχνητή Νοημοσύνη: Εργαστηριακή Άσκηση 3 \n",
    "Στην άσκηση αυτή θα υλοποιηθούν διάφοροι (σχετικά απλοί) αλγόριθμοι μηχανικής μάθησης για την αυτόματη αναγνώριση μεταξύ 3 μουσικών είδών απο τα δεδομένα που προσφέρει η υπηρεσία Spotify. Συγκεκριμένα, θα δίνονται δύο σύνολα δεδομένων $$Ζ_{train}=\\{(x_1,y_1),\\dots,(x_n,y_n)\\}$$ $$Z_{test} = \\{(x_j,y_j),\\dots{,(x_k,y_k)}\\}$$ όπου κάθε $x_i\\in{\\mathbb{R}^p}$ είναι ένα διάνυσμα με τα μουσικά χαρακτηριστικά κάθε κομματιού (όπως dancability, acousticness κ.α.) και $y_i$ είναι το είδος του κομματιού - ένας ακέραιος στο $[0,2]$. Σε κάθε περίπτωση καλείστε να σχεδιάσετε έναν ταξινομητή, δηλαδή μια απεικόνιση $$f:\\mathbb{R}^p\\rightarrow{[0,2]}$$"
   ]
  },
  {
   "cell_type": "markdown",
   "metadata": {
    "id": "Rvm0mywsZmit"
   },
   "source": [
    "# 1ο Μέρος: Αξιολόγηση\n",
    "Στο πρώτο μέρος της άσκησης θα υλοποιηθούν συναρτήσεις που θα χρησιμοποιηθούν για την αξιολόγηση των ταξινομητών που θα χρησιμοποιηθούν στα επόμενα μέρη.\n",
    "\n",
    "Παρακάτω σας δίνεται η κλάση Evaluate, η οποία υπολογίζει διάφορες μετρικές με τη μέθοδο get_metrics, εντοπίζει αντικείμενα που ταξινομήθηκαν λάθος και τα εμφανίζει (μέθοδος get_sample_of_wrong), και υπολογίζει τον πίνακα σύγχυσης (confusion matrix) όπου οπτικοποιούνται ανά κατηγορία οι προβλέψεις του ταξινομητή.\n",
    "\n",
    "Για το μέρος αυτό καλείστε να υλοποιήσετε στη μέθοδο my_accuracy τη μετρική accuracy, η οποία ορίζεται ως:\n",
    "$$accuracy = \\frac{\\#σωστών\\_προβλέψεων}{\\#δεδομένων}$$\n",
    "\n"
   ]
  },
  {
   "cell_type": "code",
   "execution_count": 1,
   "metadata": {
    "id": "WlTj48uFZhyJ"
   },
   "outputs": [],
   "source": [
    "from sklearn.metrics import confusion_matrix, f1_score, precision_score, recall_score\n",
    "from matplotlib import pyplot as plt\n",
    "import numpy as np\n",
    "import random\n",
    "\n",
    "class Evaluate:\n",
    "    def __init__(self, y_true, y_pred):\n",
    "        self.y_true = y_true\n",
    "        self.y_pred = y_pred\n",
    "\n",
    "    def my_accuracy(self):\n",
    "      y_true = self.y_true\n",
    "      y_pred = self.y_pred\n",
    "      \n",
    "      ##################\n",
    "      ## Your code below\n",
    "      length = len(y_true)\n",
    "      correct = 0\n",
    "      for i in range(length):\n",
    "            if y_true[i] == y_pred[i]:\n",
    "                correct += 1\n",
    "      acc = correct/length\n",
    "      ## Your code above\n",
    "      ##################\n",
    "      return acc\n",
    "\n",
    "    def get_metrics(self):\n",
    "        precision = precision_score(self.y_true, self.y_pred, average = \"macro\")\n",
    "        recall = recall_score(self.y_true, self.y_pred, average = \"macro\")\n",
    "        f1 = f1_score(self.y_true, self.y_pred, average = \"macro\")\n",
    "        results = {\"precision\": precision, \"recall\": recall, \"f1\": f1, \"accuracy\": self.my_accuracy()}\n",
    "        return results   \n",
    "    \n",
    "    def confusion_matrix(self):\n",
    "        cm = confusion_matrix(self.y_true, self.y_pred)\n",
    "        return cm \n",
    "\n",
    "    def get_evaluation_report(self):\n",
    "        metrics = self.get_metrics()\n",
    "        for m in metrics:\n",
    "            print(m + ': ' + str(metrics[m]))\n",
    "        cm = self.confusion_matrix()\n",
    "        print(\"Confusion matrix: \")\n",
    "        print(cm)"
   ]
  },
  {
   "cell_type": "markdown",
   "metadata": {
    "id": "3qcSvLy6ZpzB"
   },
   "source": [
    "Παράδειγμα χρήσης της κλάσης. Κανονικά στο x θα υπάρχουν τα δεδομένα από το dataset"
   ]
  },
  {
   "cell_type": "code",
   "execution_count": 2,
   "metadata": {
    "id": "S5hRZ9L1ZoNJ"
   },
   "outputs": [
    {
     "name": "stdout",
     "output_type": "stream",
     "text": [
      "precision: 0.5\n",
      "recall: 0.5\n",
      "f1: 0.5\n",
      "accuracy: 0.5\n",
      "Confusion matrix: \n",
      "[[1 1]\n",
      " [1 1]]\n"
     ]
    }
   ],
   "source": [
    "y_true = np.array([1, 0, 0, 1])\n",
    "y_pred = [1, 0, 1, 0]\n",
    "\n",
    "eval = Evaluate(y_true, y_pred)\n",
    "eval.get_evaluation_report()"
   ]
  },
  {
   "cell_type": "markdown",
   "metadata": {
    "id": "h9Sex6aEZtt9"
   },
   "source": [
    "# Dataset\n",
    "\n",
    "To dataset που σας δίνεται περιέχει πληθώρα μουσικών κομματιών για τα οποία έχουν καταγραφεί διάφορα χαρακτηριστικά τους, όπως επίσης και το μουσικό είδος στο οποίο ανήκουν. Στη συγκεκριμένη άσκηση θα δουλέψουμε με ένα υποσύνολο (αριθμητικών) χαρακτηριστικών, τα οποία συνεισφέρουν στον καθορισμό της μουσικής κατηγορίας κάθε κομματιού.  \n",
    "\n",
    "Τα χαρακτηριστικά τα οποία θα μελετήσουμε στην παρούσα άσκηση είναι τα \"acousticness\", \"danceability\", \"energy\", \"instrumentalness\", \"liveness\", \"speechiness\", ενώ οι κατηγορίες στις οποίες καλούμαστε να ταξινομήσουμε τα μουσικά κομμάτια είναι οι \"Electronic\", \"Rock\", και \"Rap\".  \n"
   ]
  },
  {
   "cell_type": "code",
   "execution_count": 3,
   "metadata": {
    "id": "RCVa4LWpqraw"
   },
   "outputs": [
    {
     "ename": "ModuleNotFoundError",
     "evalue": "No module named 'google'",
     "output_type": "error",
     "traceback": [
      "\u001b[1;31m---------------------------------------------------------------------------\u001b[0m",
      "\u001b[1;31mModuleNotFoundError\u001b[0m                       Traceback (most recent call last)",
      "\u001b[1;32m<ipython-input-3-fde2e82efa04>\u001b[0m in \u001b[0;36m<module>\u001b[1;34m\u001b[0m\n\u001b[0;32m      1\u001b[0m \u001b[1;31m# Σύνδεση του Google Colab με το Google Drive\u001b[0m\u001b[1;33m\u001b[0m\u001b[1;33m\u001b[0m\u001b[1;33m\u001b[0m\u001b[0m\n\u001b[0;32m      2\u001b[0m \u001b[1;33m\u001b[0m\u001b[0m\n\u001b[1;32m----> 3\u001b[1;33m \u001b[1;32mfrom\u001b[0m \u001b[0mgoogle\u001b[0m\u001b[1;33m.\u001b[0m\u001b[0mcolab\u001b[0m \u001b[1;32mimport\u001b[0m \u001b[0mdrive\u001b[0m\u001b[1;33m\u001b[0m\u001b[1;33m\u001b[0m\u001b[0m\n\u001b[0m\u001b[0;32m      4\u001b[0m \u001b[0mdrive\u001b[0m\u001b[1;33m.\u001b[0m\u001b[0mmount\u001b[0m\u001b[1;33m(\u001b[0m\u001b[1;34m'/content/drive'\u001b[0m\u001b[1;33m)\u001b[0m\u001b[1;33m\u001b[0m\u001b[1;33m\u001b[0m\u001b[0m\n",
      "\u001b[1;31mModuleNotFoundError\u001b[0m: No module named 'google'"
     ]
    }
   ],
   "source": [
    "# Σύνδεση του Google Colab με το Google Drive\n",
    "\n",
    "from google.colab import drive\n",
    "drive.mount('/content/drive')"
   ]
  },
  {
   "cell_type": "markdown",
   "metadata": {
    "id": "5sKETzTHNgyk"
   },
   "source": [
    "Θα χρησιμοποιήσουμε τα DataFrames της βιβλιοθήκης pandas για να χειριστούμε τα δεδομένα μας. Μπορείτε να βρείτε περισσότερες πληροφορίες για τα pandas DataFrames στο αντίστοιχο [documentation](https://pandas.pydata.org/docs/reference/api/pandas.DataFrame.html)."
   ]
  },
  {
   "cell_type": "code",
   "execution_count": 4,
   "metadata": {
    "id": "YvbVV9isZrwZ"
   },
   "outputs": [],
   "source": [
    "import pandas as pd\n",
    "import numpy as np\n",
    "from tqdm.notebook import tqdm "
   ]
  },
  {
   "cell_type": "code",
   "execution_count": 5,
   "metadata": {
    "id": "YKpUJSpWqy-I"
   },
   "outputs": [
    {
     "data": {
      "text/html": [
       "<div>\n",
       "<style scoped>\n",
       "    .dataframe tbody tr th:only-of-type {\n",
       "        vertical-align: middle;\n",
       "    }\n",
       "\n",
       "    .dataframe tbody tr th {\n",
       "        vertical-align: top;\n",
       "    }\n",
       "\n",
       "    .dataframe thead th {\n",
       "        text-align: right;\n",
       "    }\n",
       "</style>\n",
       "<table border=\"1\" class=\"dataframe\">\n",
       "  <thead>\n",
       "    <tr style=\"text-align: right;\">\n",
       "      <th></th>\n",
       "      <th>instance_id</th>\n",
       "      <th>artist_name</th>\n",
       "      <th>track_name</th>\n",
       "      <th>popularity</th>\n",
       "      <th>acousticness</th>\n",
       "      <th>danceability</th>\n",
       "      <th>duration_ms</th>\n",
       "      <th>energy</th>\n",
       "      <th>instrumentalness</th>\n",
       "      <th>key</th>\n",
       "      <th>liveness</th>\n",
       "      <th>loudness</th>\n",
       "      <th>mode</th>\n",
       "      <th>speechiness</th>\n",
       "      <th>tempo</th>\n",
       "      <th>obtained_date</th>\n",
       "      <th>valence</th>\n",
       "      <th>music_genre</th>\n",
       "    </tr>\n",
       "  </thead>\n",
       "  <tbody>\n",
       "    <tr>\n",
       "      <th>0</th>\n",
       "      <td>32894.0</td>\n",
       "      <td>Röyksopp</td>\n",
       "      <td>Röyksopp's Night Out</td>\n",
       "      <td>27.0</td>\n",
       "      <td>0.00468</td>\n",
       "      <td>0.652</td>\n",
       "      <td>-1.0</td>\n",
       "      <td>0.941</td>\n",
       "      <td>0.79200</td>\n",
       "      <td>A#</td>\n",
       "      <td>0.115</td>\n",
       "      <td>-5.201</td>\n",
       "      <td>Minor</td>\n",
       "      <td>0.0748</td>\n",
       "      <td>100.889</td>\n",
       "      <td>4-Apr</td>\n",
       "      <td>0.759</td>\n",
       "      <td>Electronic</td>\n",
       "    </tr>\n",
       "    <tr>\n",
       "      <th>1</th>\n",
       "      <td>46652.0</td>\n",
       "      <td>Thievery Corporation</td>\n",
       "      <td>The Shining Path</td>\n",
       "      <td>31.0</td>\n",
       "      <td>0.01270</td>\n",
       "      <td>0.622</td>\n",
       "      <td>218293.0</td>\n",
       "      <td>0.890</td>\n",
       "      <td>0.95000</td>\n",
       "      <td>D</td>\n",
       "      <td>0.124</td>\n",
       "      <td>-7.043</td>\n",
       "      <td>Minor</td>\n",
       "      <td>0.0300</td>\n",
       "      <td>115.002</td>\n",
       "      <td>4-Apr</td>\n",
       "      <td>0.531</td>\n",
       "      <td>Electronic</td>\n",
       "    </tr>\n",
       "    <tr>\n",
       "      <th>2</th>\n",
       "      <td>30097.0</td>\n",
       "      <td>Dillon Francis</td>\n",
       "      <td>Hurricane</td>\n",
       "      <td>28.0</td>\n",
       "      <td>0.00306</td>\n",
       "      <td>0.620</td>\n",
       "      <td>215613.0</td>\n",
       "      <td>0.755</td>\n",
       "      <td>0.01180</td>\n",
       "      <td>G#</td>\n",
       "      <td>0.534</td>\n",
       "      <td>-4.617</td>\n",
       "      <td>Major</td>\n",
       "      <td>0.0345</td>\n",
       "      <td>127.994</td>\n",
       "      <td>4-Apr</td>\n",
       "      <td>0.333</td>\n",
       "      <td>Electronic</td>\n",
       "    </tr>\n",
       "    <tr>\n",
       "      <th>3</th>\n",
       "      <td>62177.0</td>\n",
       "      <td>Dubloadz</td>\n",
       "      <td>Nitro</td>\n",
       "      <td>34.0</td>\n",
       "      <td>0.02540</td>\n",
       "      <td>0.774</td>\n",
       "      <td>166875.0</td>\n",
       "      <td>0.700</td>\n",
       "      <td>0.00253</td>\n",
       "      <td>C#</td>\n",
       "      <td>0.157</td>\n",
       "      <td>-4.498</td>\n",
       "      <td>Major</td>\n",
       "      <td>0.2390</td>\n",
       "      <td>128.014</td>\n",
       "      <td>4-Apr</td>\n",
       "      <td>0.270</td>\n",
       "      <td>Electronic</td>\n",
       "    </tr>\n",
       "    <tr>\n",
       "      <th>4</th>\n",
       "      <td>24907.0</td>\n",
       "      <td>What So Not</td>\n",
       "      <td>Divide &amp; Conquer</td>\n",
       "      <td>32.0</td>\n",
       "      <td>0.00465</td>\n",
       "      <td>0.638</td>\n",
       "      <td>222369.0</td>\n",
       "      <td>0.587</td>\n",
       "      <td>0.90900</td>\n",
       "      <td>F#</td>\n",
       "      <td>0.157</td>\n",
       "      <td>-6.266</td>\n",
       "      <td>Major</td>\n",
       "      <td>0.0413</td>\n",
       "      <td>145.036</td>\n",
       "      <td>4-Apr</td>\n",
       "      <td>0.323</td>\n",
       "      <td>Electronic</td>\n",
       "    </tr>\n",
       "  </tbody>\n",
       "</table>\n",
       "</div>"
      ],
      "text/plain": [
       "   instance_id           artist_name            track_name  popularity  \\\n",
       "0      32894.0              Röyksopp  Röyksopp's Night Out        27.0   \n",
       "1      46652.0  Thievery Corporation      The Shining Path        31.0   \n",
       "2      30097.0        Dillon Francis             Hurricane        28.0   \n",
       "3      62177.0              Dubloadz                 Nitro        34.0   \n",
       "4      24907.0           What So Not      Divide & Conquer        32.0   \n",
       "\n",
       "   acousticness  danceability  duration_ms  energy  instrumentalness key  \\\n",
       "0       0.00468         0.652         -1.0   0.941           0.79200  A#   \n",
       "1       0.01270         0.622     218293.0   0.890           0.95000   D   \n",
       "2       0.00306         0.620     215613.0   0.755           0.01180  G#   \n",
       "3       0.02540         0.774     166875.0   0.700           0.00253  C#   \n",
       "4       0.00465         0.638     222369.0   0.587           0.90900  F#   \n",
       "\n",
       "   liveness  loudness   mode  speechiness    tempo obtained_date  valence  \\\n",
       "0     0.115    -5.201  Minor       0.0748  100.889         4-Apr    0.759   \n",
       "1     0.124    -7.043  Minor       0.0300  115.002         4-Apr    0.531   \n",
       "2     0.534    -4.617  Major       0.0345  127.994         4-Apr    0.333   \n",
       "3     0.157    -4.498  Major       0.2390  128.014         4-Apr    0.270   \n",
       "4     0.157    -6.266  Major       0.0413  145.036         4-Apr    0.323   \n",
       "\n",
       "  music_genre  \n",
       "0  Electronic  \n",
       "1  Electronic  \n",
       "2  Electronic  \n",
       "3  Electronic  \n",
       "4  Electronic  "
      ]
     },
     "execution_count": 5,
     "metadata": {},
     "output_type": "execute_result"
    }
   ],
   "source": [
    "# read data in the form of pandas DataFrame\n",
    "data = pd.read_csv(r\"C:\\Users\\OWNER\\Downloads\\music_df_processed.csv\")\n",
    "\n",
    "# print the first 5 values of the DataFrame using .head() command\n",
    "data.head()"
   ]
  },
  {
   "cell_type": "code",
   "execution_count": 6,
   "metadata": {
    "id": "1mjeVnUCPVkR"
   },
   "outputs": [
    {
     "data": {
      "text/html": [
       "<div>\n",
       "<style scoped>\n",
       "    .dataframe tbody tr th:only-of-type {\n",
       "        vertical-align: middle;\n",
       "    }\n",
       "\n",
       "    .dataframe tbody tr th {\n",
       "        vertical-align: top;\n",
       "    }\n",
       "\n",
       "    .dataframe thead th {\n",
       "        text-align: right;\n",
       "    }\n",
       "</style>\n",
       "<table border=\"1\" class=\"dataframe\">\n",
       "  <thead>\n",
       "    <tr style=\"text-align: right;\">\n",
       "      <th></th>\n",
       "      <th>instance_id</th>\n",
       "      <th>popularity</th>\n",
       "      <th>acousticness</th>\n",
       "      <th>danceability</th>\n",
       "      <th>duration_ms</th>\n",
       "      <th>energy</th>\n",
       "      <th>instrumentalness</th>\n",
       "      <th>liveness</th>\n",
       "      <th>loudness</th>\n",
       "      <th>speechiness</th>\n",
       "      <th>tempo</th>\n",
       "      <th>valence</th>\n",
       "    </tr>\n",
       "  </thead>\n",
       "  <tbody>\n",
       "    <tr>\n",
       "      <th>count</th>\n",
       "      <td>45020.000000</td>\n",
       "      <td>45020.000000</td>\n",
       "      <td>45020.000000</td>\n",
       "      <td>45020.000000</td>\n",
       "      <td>4.502000e+04</td>\n",
       "      <td>45020.000000</td>\n",
       "      <td>45020.000000</td>\n",
       "      <td>45020.000000</td>\n",
       "      <td>45020.000000</td>\n",
       "      <td>45020.000000</td>\n",
       "      <td>45020.000000</td>\n",
       "      <td>45020.000000</td>\n",
       "    </tr>\n",
       "    <tr>\n",
       "      <th>mean</th>\n",
       "      <td>55884.691892</td>\n",
       "      <td>44.263327</td>\n",
       "      <td>0.306596</td>\n",
       "      <td>0.558532</td>\n",
       "      <td>2.211695e+05</td>\n",
       "      <td>0.599553</td>\n",
       "      <td>0.181843</td>\n",
       "      <td>0.193951</td>\n",
       "      <td>-9.137016</td>\n",
       "      <td>0.093783</td>\n",
       "      <td>119.952961</td>\n",
       "      <td>0.456394</td>\n",
       "    </tr>\n",
       "    <tr>\n",
       "      <th>std</th>\n",
       "      <td>20728.197040</td>\n",
       "      <td>15.553972</td>\n",
       "      <td>0.341391</td>\n",
       "      <td>0.178858</td>\n",
       "      <td>1.276884e+05</td>\n",
       "      <td>0.264510</td>\n",
       "      <td>0.325847</td>\n",
       "      <td>0.161715</td>\n",
       "      <td>6.156400</td>\n",
       "      <td>0.101469</td>\n",
       "      <td>30.641701</td>\n",
       "      <td>0.247161</td>\n",
       "    </tr>\n",
       "    <tr>\n",
       "      <th>min</th>\n",
       "      <td>20002.000000</td>\n",
       "      <td>0.000000</td>\n",
       "      <td>0.000000</td>\n",
       "      <td>0.059600</td>\n",
       "      <td>-1.000000e+00</td>\n",
       "      <td>0.000792</td>\n",
       "      <td>0.000000</td>\n",
       "      <td>0.009670</td>\n",
       "      <td>-47.046000</td>\n",
       "      <td>0.022300</td>\n",
       "      <td>34.347000</td>\n",
       "      <td>0.000000</td>\n",
       "    </tr>\n",
       "    <tr>\n",
       "      <th>25%</th>\n",
       "      <td>38000.750000</td>\n",
       "      <td>34.000000</td>\n",
       "      <td>0.020100</td>\n",
       "      <td>0.442000</td>\n",
       "      <td>1.747230e+05</td>\n",
       "      <td>0.432000</td>\n",
       "      <td>0.000000</td>\n",
       "      <td>0.096900</td>\n",
       "      <td>-10.860000</td>\n",
       "      <td>0.036100</td>\n",
       "      <td>94.941500</td>\n",
       "      <td>0.257000</td>\n",
       "    </tr>\n",
       "    <tr>\n",
       "      <th>50%</th>\n",
       "      <td>55857.500000</td>\n",
       "      <td>45.000000</td>\n",
       "      <td>0.145000</td>\n",
       "      <td>0.568000</td>\n",
       "      <td>2.194385e+05</td>\n",
       "      <td>0.642000</td>\n",
       "      <td>0.000159</td>\n",
       "      <td>0.126000</td>\n",
       "      <td>-7.284000</td>\n",
       "      <td>0.048900</td>\n",
       "      <td>119.879000</td>\n",
       "      <td>0.448000</td>\n",
       "    </tr>\n",
       "    <tr>\n",
       "      <th>75%</th>\n",
       "      <td>73856.500000</td>\n",
       "      <td>56.000000</td>\n",
       "      <td>0.551000</td>\n",
       "      <td>0.687000</td>\n",
       "      <td>2.686400e+05</td>\n",
       "      <td>0.815250</td>\n",
       "      <td>0.154000</td>\n",
       "      <td>0.244000</td>\n",
       "      <td>-5.177000</td>\n",
       "      <td>0.098800</td>\n",
       "      <td>140.471250</td>\n",
       "      <td>0.648000</td>\n",
       "    </tr>\n",
       "    <tr>\n",
       "      <th>max</th>\n",
       "      <td>91759.000000</td>\n",
       "      <td>99.000000</td>\n",
       "      <td>0.996000</td>\n",
       "      <td>0.986000</td>\n",
       "      <td>4.497994e+06</td>\n",
       "      <td>0.999000</td>\n",
       "      <td>0.996000</td>\n",
       "      <td>1.000000</td>\n",
       "      <td>3.744000</td>\n",
       "      <td>0.942000</td>\n",
       "      <td>220.276000</td>\n",
       "      <td>0.992000</td>\n",
       "    </tr>\n",
       "  </tbody>\n",
       "</table>\n",
       "</div>"
      ],
      "text/plain": [
       "        instance_id    popularity  acousticness  danceability   duration_ms  \\\n",
       "count  45020.000000  45020.000000  45020.000000  45020.000000  4.502000e+04   \n",
       "mean   55884.691892     44.263327      0.306596      0.558532  2.211695e+05   \n",
       "std    20728.197040     15.553972      0.341391      0.178858  1.276884e+05   \n",
       "min    20002.000000      0.000000      0.000000      0.059600 -1.000000e+00   \n",
       "25%    38000.750000     34.000000      0.020100      0.442000  1.747230e+05   \n",
       "50%    55857.500000     45.000000      0.145000      0.568000  2.194385e+05   \n",
       "75%    73856.500000     56.000000      0.551000      0.687000  2.686400e+05   \n",
       "max    91759.000000     99.000000      0.996000      0.986000  4.497994e+06   \n",
       "\n",
       "             energy  instrumentalness      liveness      loudness  \\\n",
       "count  45020.000000      45020.000000  45020.000000  45020.000000   \n",
       "mean       0.599553          0.181843      0.193951     -9.137016   \n",
       "std        0.264510          0.325847      0.161715      6.156400   \n",
       "min        0.000792          0.000000      0.009670    -47.046000   \n",
       "25%        0.432000          0.000000      0.096900    -10.860000   \n",
       "50%        0.642000          0.000159      0.126000     -7.284000   \n",
       "75%        0.815250          0.154000      0.244000     -5.177000   \n",
       "max        0.999000          0.996000      1.000000      3.744000   \n",
       "\n",
       "        speechiness         tempo       valence  \n",
       "count  45020.000000  45020.000000  45020.000000  \n",
       "mean       0.093783    119.952961      0.456394  \n",
       "std        0.101469     30.641701      0.247161  \n",
       "min        0.022300     34.347000      0.000000  \n",
       "25%        0.036100     94.941500      0.257000  \n",
       "50%        0.048900    119.879000      0.448000  \n",
       "75%        0.098800    140.471250      0.648000  \n",
       "max        0.942000    220.276000      0.992000  "
      ]
     },
     "execution_count": 6,
     "metadata": {},
     "output_type": "execute_result"
    }
   ],
   "source": [
    "# What can we see here?\n",
    "data.describe()"
   ]
  },
  {
   "cell_type": "markdown",
   "metadata": {
    "id": "0EtEH-M9Ikac"
   },
   "source": [
    "## Επιλογή χαρακτηριστικών x και στόχων y.  \n",
    "\n",
    "Για λόγους απλότητας επιλέγουμε τα χαρακτηριστικά (inputs) και τις κατηγορίες-στόχους (genres). Καλείστε να διαχωρίσετε τα δεδομένα σε train/test set. Ας θεωρήσουμε το διαχωρισμό 30% - test set, 70% - train set."
   ]
  },
  {
   "cell_type": "code",
   "execution_count": 7,
   "metadata": {
    "id": "tHa_Qq0Efqxb"
   },
   "outputs": [],
   "source": [
    "# χαρακτηριστικά\n",
    "inputs = [\"acousticness\", \"danceability\", \"energy\", \"instrumentalness\", \"liveness\", \"speechiness\"]\n",
    "\n",
    "# κατηγορίες-στόχοι\n",
    "output = \"music_genre\"\n",
    "genres = [\"Electronic\", \"Rock\", \"Rap\"]\n",
    "\n",
    "# φιλτράρουμε το DataFrame ώστε να διατηρήσουμε μόνο τις 3 κατηγορίες που μας ενδιαφέρουν.\n",
    "\n",
    "data = data[data[output].isin(genres)]\n",
    "\n",
    "# dictionary to map genre to label id \n",
    "genres_to_id = {genre: i for i, genre in enumerate(genres)}\n",
    "\n",
    "# εδώ πρέπει να διαχωρίσετε τα δεδομένα σε train (70% των δεδομένων)/test set (30% των δεδομένων)\n",
    "# ονομάστε τις μεταβλητές ως εξής:\n",
    "# τα χαρακτηριστικά του train set: x_train\n",
    "# τις κατηγορίες-στόχους του train set: y_train\n",
    "# τα χαρακτηριστικά του test set: x_test\n",
    "# τις κατηγορίες-στόχους του test set: y_test\n",
    "x_test, y_test, x_train, y_train = [], [], [], []\n",
    "##################\n",
    "## Your code below\n",
    "\n",
    "#Τυχαιοποίηση του data\n",
    "data = data.sample(frac=1).reset_index(drop=True)\n",
    "characteristics = data[inputs]\n",
    "goal_genres = data[[output]]\n",
    "\n",
    "check = 0\n",
    "for i in range(len(goal_genres)):\n",
    "    check = goal_genres.iat[i,0]\n",
    "    if check == \"Electronic\":\n",
    "        check = 0\n",
    "    elif check == \"Rap\":\n",
    "        check = 1\n",
    "    else:\n",
    "        check = 2\n",
    "    goal_genres.iat[i,0] = check\n",
    "        \n",
    "\n",
    "\n",
    "if (data.shape[0] != 13531):\n",
    "    raise Exception(\"Sorry, data overlap. Try running cell that reads data again.\")\n",
    "else:\n",
    "    #Διαλέγουμε ορισμένα δεδομένα για τα x και y.\n",
    "    y_test = goal_genres.iloc[np.r_[0:1339, 4466:5834, 8970:10322]].reset_index(drop = True)\n",
    "    x_test = characteristics.iloc[np.r_[0:1339, 4466:5834, 8970:10322]].reset_index(drop = True)\n",
    "    y_train= goal_genres.iloc[np.r_[1339:4466, 5834:8970, 10322:13531]].reset_index(drop = True)\n",
    "    x_train = characteristics.iloc[np.r_[1339:4466, 5834:8970, 10322:13531]].reset_index(drop = True)\n",
    "\n",
    "    \n",
    "# Your code above\n",
    "#################"
   ]
  },
  {
   "cell_type": "markdown",
   "metadata": {
    "id": "hhte3iixLg8C"
   },
   "source": [
    "## Μορφή των δεδομένων  \n",
    "\n",
    "Βεβαιωθείτε ότι τα δεδομένα σας έχουν τη σωστή μορφή εκτυπώνοντας τον αριθμό γραμμών και στηλών για τα x_test, y_test, x_train, y_train."
   ]
  },
  {
   "cell_type": "code",
   "execution_count": 8,
   "metadata": {
    "id": "FhDzmllUZvyp"
   },
   "outputs": [
    {
     "name": "stdout",
     "output_type": "stream",
     "text": [
      "Rows for  x_test, y_test, x_train, y_train: 4059 4059 9472 9472\n",
      "Columns for x_test, y_test, x_train, y_train: 6 1 6 1\n"
     ]
    }
   ],
   "source": [
    "# Shape of x_test, y_test, x_train, y_train\n",
    "\n",
    "##################\n",
    "## Your code below\n",
    "print(\"Rows for  x_test, y_test, x_train, y_train:\",  x_test.shape[0], y_test.shape[0], x_train.shape[0], y_train.shape[0])\n",
    "print(\"Columns for x_test, y_test, x_train, y_train:\",  len(x_test.columns), len(y_test.columns), len(x_train.columns), len(y_train.columns))\n",
    "## Your code above\n",
    "##################"
   ]
  },
  {
   "cell_type": "markdown",
   "metadata": {
    "id": "QAQ3qN1NMVpf"
   },
   "source": [
    "Αναφορικά με τις τιμές των χαρακτηριστικών, είναι σημαντικό να γνωρίζουμε το εύρος τους, δηλαδή τη μέγιστη και την ελάχιστη τιμή που λαμβάνει το κάθε χαρακτηριστικό. Εξερευνήστε το εύρος του κάθε χαρακτηριστικού στα train και test set. "
   ]
  },
  {
   "cell_type": "code",
   "execution_count": 9,
   "metadata": {
    "id": "twobPa_DMxI2"
   },
   "outputs": [
    {
     "name": "stdout",
     "output_type": "stream",
     "text": [
      "Maximun and minimun values of x_test:\n",
      "                  maxes      mins\n",
      "acousticness      0.984  0.000001\n",
      "danceability      0.973  0.096400\n",
      "energy            0.998  0.021100\n",
      "instrumentalness  0.986  0.000000\n",
      "liveness          0.989  0.017300\n",
      "speechiness       0.883  0.023300\n",
      "Maximun and minimun values of x_train:\n",
      "                  maxes      mins\n",
      "acousticness      0.994  0.000002\n",
      "danceability      0.977  0.064500\n",
      "energy            0.999  0.002590\n",
      "instrumentalness  0.980  0.000000\n",
      "liveness          0.991  0.020800\n",
      "speechiness       0.922  0.022400\n"
     ]
    }
   ],
   "source": [
    "# Range of x_train, x_test columns\n",
    "\n",
    "##################\n",
    "## Your code below\n",
    "print(\"Maximun and minimun values of x_test:\")\n",
    "print(pd.concat([pd.Series(x_test.max(), name=\"maxes\").to_frame(), pd.Series(x_test.min(), name=\"mins\").to_frame()], axis = 1))\n",
    "print(\"Maximun and minimun values of x_train:\")\n",
    "print(pd.concat([pd.Series(x_train.max(), name=\"maxes\").to_frame(), pd.Series(x_train.min(), name=\"mins\").to_frame()], axis = 1))\n",
    "## Your code above\n",
    "##################"
   ]
  },
  {
   "cell_type": "markdown",
   "metadata": {
    "id": "jZH_VbsMM_TM"
   },
   "source": [
    "Από την παραπάνω ανάλυση προκύπτουν κάποια ερωτήματα σημαντικά για τα επόμενα βήματα:\n",
    "- Έχουν τα χαρακτηριστικά μας περίπου το ίδιο εύρος;\n",
    "\n",
    "- Σε πολλές εφαρμογές είναι σημαντικό τα χαρακτηριστικά να βρίσκονται στο εύρος [0, 1]. Ισχύει αυτό στην περίπτωσή μας; "
   ]
  },
  {
   "cell_type": "markdown",
   "metadata": {
    "id": "bYMke4uRZ8Ae"
   },
   "source": [
    "# 2o Μέρος: Υλοποίηση KNN\n",
    "Στο δεύτερο μέρος της άσκησης θα υλοποιήσετε τον αλγόριθμο KNN για ταξινόμηση. Υπενθυμίζεται από τις διαφάνειες το πλάνο σχεδιασμού για τον ταξινομητή k κοντινότερων γειτόνων:\n",
    "- Αποθηκεύουμε όλα τα δεδομένα ($Z_{train}$) στη μνήμη\n",
    "  - Τα δεδομένα μπορούν αποθηκευτούν σε έναν πίνακα $n\\times{p}$ με χρήση του numpy\n",
    "- Συγκρίνουμε την είσοδο με τα δεδομένα και βρίσκουμε τα k κοντινότερα ($k<n$) με βάση κάποια απόσταση.\n",
    "  - Όταν μας δίνεται ένα \"φρέσκο\" δείγμα ως διάνυσμα από χαρακτηριστικά $x_i$ χρειαζόμαστε μια συνάρτηση που να υπολογίζει την απόσταση $d(x_i,x_j)$, όπου $x_j$ είναι το διάνυσμα που αντιστοιχεί στα χαρακτηριστικά ενός δείγματος από τα δεδομένα εκπαίδευσης. Θα πειραματιστείτε με την ευκλείδια απόσταση και την απόσταση συνημιτόνου. Στη συνέχεια ταξινομούνται τα δεδομένα εκπαίδευσης ως προς την απόστασή τους από το $x_i$ και επιλέγονται τα $k$ κοντινότερα\n",
    "- Δίνουμε στην έξοδο την κλάση στην οποία ανήκει η πλειοψηφία των k κοντινότερων δεδομένων.\n",
    "\n",
    "Αφού κατασκευαστεί ο ταξινομητής θα αξιολογήσετε την επίδοσή του στα 100 πρώτα δείγματα του $Z_{test}$ για κάποιες τιμές του k που θα επιλέξετε εσείς, ξεκινώντας από $k=1$.\n",
    "\n",
    "Στην πράξη πολύ σπάνια θα χρειαστεί να υλοποιήσετε έναν αλγόριθμο μηχανικής μάθησης από το μηδέν, αφού υπάρχουν έτοιμες υλοποιήσεις, π.χ. σε πακέτα της python, οι οποίες είναι βελτιστοποιημένες και εύχρηστες. Το τελευταίο ζητούμενο  στο 2ο μέρος είναι να επαναλάβετε το παραπάνω πείραμα με την έτοιμη υλοποίηση του KNN που παρέχει η βιβλιοθήκη sklearn. Καλείστε να συγκρίνετε τα αποτελέσματα και τους χρόνους εκτέλεσης.\n",
    "\n",
    " Σας δίνεται η κλάση KNN η οποία αρχικοποιείται με ένα σύνολο από δεδομένα x, ετικέτες y και το k για τον αλγόριθμο. Καλείστε να συμπληρώσετε τον κώδικα που λείπει στις μεθόδους distance, get_knn, και classify.\n",
    "\n",
    "Η απόσταση συνημιτόνου μεταξύ δύο διανυσμάτων u,v ορίζεται ως: $$d(u,v)= 1 - \\frac{u\\cdot{v}}{||u||_2||v||_2}$$"
   ]
  },
  {
   "cell_type": "code",
   "execution_count": 28,
   "metadata": {
    "id": "EMPfT1jTZ51F"
   },
   "outputs": [
    {
     "name": "stdout",
     "output_type": "stream",
     "text": [
      "Already numpy arrays\n"
     ]
    }
   ],
   "source": [
    "from numpy import ndarray\n",
    "from numpy import linalg\n",
    "from numpy import inner\n",
    "from numpy import subtract\n",
    "class KNN:\n",
    "    def __init__(self, x, y, k, distance = \"euclidean\"):\n",
    "        self.x = x\n",
    "        self.y = y\n",
    "        self.k = k\n",
    "        self.distance = distance\n",
    "        \n",
    "    ## Compute the distance between the two vectors (2 rows of the DataFrame)\n",
    "    # hint: use np.linalg.norm for eucledian\n",
    "    # hint: use equation given above for cosine\n",
    "    def get_distance(self, row1, row2):\n",
    "      if self.distance=='euclidean':\n",
    "        ##################\n",
    "        ## Your code below\n",
    "        diff = subtract(row1,row2)\n",
    "        dist = linalg.norm(diff)\n",
    "        ## Your code above\n",
    "        ##################\n",
    "      elif self.distance=='cosine':\n",
    "        ##################\n",
    "        ## Your code below\n",
    "        dist = 1 -inner(row1,row2)/(linalg.norm(row1)*linalg.norm(row2))\n",
    "        ## Your code above\n",
    "        ##################\n",
    "        #pass\n",
    "\n",
    "      return dist\n",
    "\n",
    "    ## Given a DataFrame row as a vector, returns indexes of k nearest neighbors\n",
    "    def get_knn(self, row):\n",
    "      distances = list()\n",
    "      x = self.x\n",
    "      k = self.k\n",
    "      \n",
    "      ##################\n",
    "      ## Your code below - populate the distances list\n",
    "      # hint: you can use a for loop\n",
    "      distances = [self.get_distance(row, rowy) for rowy in x]\n",
    "      ## Your code above\n",
    "      ##################\n",
    "\n",
    "      # Sort distances, and return the indexes of k first elements\n",
    "      ans_indexes = np.argsort(distances)[:k]\n",
    "      return ans_indexes\n",
    "\n",
    "    ## Given a DataFrame row as a vector, classify it according to KNN\n",
    "    # hint: we have a list of k labels and want to return the most common one\n",
    "    def classify(self, row):\n",
    "      y = self.y\n",
    "      nn_labels = [y[i] for i in self.get_knn(row)]\n",
    "      \n",
    "      ##################\n",
    "      ## Your code below\n",
    "      #borei na yparxei synarthsh numpy\n",
    "      elec, rap, rock = 0, 0, 0\n",
    "      for i in range(len(nn_labels)):\n",
    "        if nn_labels[i] == 0:\n",
    "            elec += 1\n",
    "        elif nn_labels[i] == 1:\n",
    "            rap += 1\n",
    "        else:\n",
    "            rock += 1\n",
    "      \n",
    "      (maxim,prediction) = max([(elec,0),(rap,1),(rock,2)])\n",
    "      ## Your code above\n",
    "      ###################\n",
    "      return prediction\n",
    "\n",
    "if type(x_test) == ndarray:\n",
    "    print(\"Already numpy arrays\")\n",
    "else:\n",
    "    x_test = x_test.to_numpy()\n",
    "    y_test = y_test[\"music_genre\"].to_numpy()\n",
    "    x_train = x_train.to_numpy()\n",
    "    y_train = y_train[\"music_genre\"].to_numpy()\n",
    "knn = KNN(x_train, y_train, k=5, distance='euclidean')"
   ]
  },
  {
   "cell_type": "markdown",
   "metadata": {
    "id": "B8-o5tn3aH0-"
   },
   "source": [
    "Τώρα που είναι έτοιμος ο ταξινομητής ας δούμε τι προβλέπει σε μεμονωμένα δείγματα."
   ]
  },
  {
   "cell_type": "markdown",
   "metadata": {
    "id": "XCiEi1UUaLzE"
   },
   "source": [
    "## Αξιολόγηση του KNN"
   ]
  },
  {
   "cell_type": "code",
   "execution_count": 56,
   "metadata": {
    "id": "tKw0oa1jaJei"
   },
   "outputs": [],
   "source": [
    "preds = [knn.classify(x_test[i]) for i in range(100)]\n",
    "labels = [y_test[i] for i in range(1000)]"
   ]
  },
  {
   "cell_type": "code",
   "execution_count": 30,
   "metadata": {
    "id": "yNVygiKCaNag"
   },
   "outputs": [
    {
     "name": "stdout",
     "output_type": "stream",
     "text": [
      "precision: 0.7147741147741148\n",
      "recall: 0.7037037037037037\n",
      "f1: 0.7001566452155398\n",
      "accuracy: 0.7\n",
      "Confusion matrix: \n",
      "[[22  8  6]\n",
      " [ 1 23  8]\n",
      " [ 3  4 25]]\n"
     ]
    }
   ],
   "source": [
    "eval = Evaluate(labels[:100], preds)\n",
    "eval.get_evaluation_report()"
   ]
  },
  {
   "cell_type": "markdown",
   "metadata": {
    "id": "V7LP247HaU6m"
   },
   "source": [
    "## Έτοιμος ΚΝΝ classifier\n",
    "\n",
    "Όπως και με τους περισσότερους αλγορίθμους μηχανικής μάθησης, υπάρχουν έτοιμες βελτιστοποιημένες υλοποιήσεις. Παρακάτω δείχνουμε ένα παράδειγμα χρήσης του ταξινομητή ΚΝΝ που παρέχει η βιβλιοθήκη sklearn ([documentation](https://scikit-learn.org/stable/modules/generated/sklearn.neighbors.KNeighborsClassifier.html))."
   ]
  },
  {
   "cell_type": "code",
   "execution_count": 31,
   "metadata": {
    "id": "Os0WCL-QaOnr"
   },
   "outputs": [
    {
     "name": "stdout",
     "output_type": "stream",
     "text": [
      "precision: 0.7131297964631299\n",
      "recall: 0.7025462962962963\n",
      "f1: 0.7007604974356892\n",
      "accuracy: 0.7\n",
      "Confusion matrix: \n",
      "[[23  7  6]\n",
      " [ 1 24  7]\n",
      " [ 3  6 23]]\n"
     ]
    }
   ],
   "source": [
    "from sklearn.neighbors import KNeighborsClassifier\n",
    "\n",
    "k = 5\n",
    "knc = KNeighborsClassifier(n_neighbors = k)\n",
    "knc.fit(x_train, y_train.astype('int'))\n",
    "y_pred = knc.predict(x_test[:100])\n",
    "eval = Evaluate(y_test[:100].tolist(), y_pred.tolist())\n",
    "eval.get_evaluation_report()"
   ]
  },
  {
   "cell_type": "markdown",
   "metadata": {
    "id": "RcUBX2XMaZUd"
   },
   "source": [
    "## Σύγκριση υλοποιήσεων\n",
    "\n",
    "Στα παρακάτω κελιά πειραματιστείτε με τις δύο υλοποιήσεις (τη δική σας και την έτοιμη). Βεβαιωθείτε πως προκύπτουν τα ίδια αποτελέσματα για διάφορες τιμές του k (για ευκλείδια απόσταση) και μετρήστε τους χρόνους εκτέλεσης."
   ]
  },
  {
   "cell_type": "markdown",
   "metadata": {
    "id": "IOmj0ryqW9nY"
   },
   "source": [
    "Για τους χρόνους εκτέλεσης για k = 5 τρέχουμε τα 3 παρακάτω κελιά:"
   ]
  },
  {
   "cell_type": "code",
   "execution_count": 39,
   "metadata": {
    "id": "8Yz_Y_cpaWor"
   },
   "outputs": [
    {
     "name": "stdout",
     "output_type": "stream",
     "text": [
      "Wall time: 4.95 s\n"
     ]
    }
   ],
   "source": [
    "%%time\n",
    "knn = KNN(x_train, y_train, k = 5, distance = 'euclidean')\n",
    "preds = [knn.classify(x_test[i]) for i in range(100)]"
   ]
  },
  {
   "cell_type": "code",
   "execution_count": 40,
   "metadata": {},
   "outputs": [
    {
     "name": "stdout",
     "output_type": "stream",
     "text": [
      "precision: 0.7147741147741148\n",
      "recall: 0.7037037037037037\n",
      "f1: 0.7001566452155398\n",
      "accuracy: 0.7\n",
      "Confusion matrix: \n",
      "[[22  8  6]\n",
      " [ 1 23  8]\n",
      " [ 3  4 25]]\n"
     ]
    }
   ],
   "source": [
    "eval = Evaluate(labels[:100], preds)\n",
    "eval.get_evaluation_report()"
   ]
  },
  {
   "cell_type": "code",
   "execution_count": 41,
   "metadata": {
    "id": "683epgE6W9nY"
   },
   "outputs": [
    {
     "name": "stdout",
     "output_type": "stream",
     "text": [
      "Wall time: 516 ms\n"
     ]
    }
   ],
   "source": [
    "%%time\n",
    "knn = KNN(x_train, y_train, k = 5, distance = 'cosine')\n",
    "preds = [knn.classify(x_test[i]) for i in range(5)]"
   ]
  },
  {
   "cell_type": "code",
   "execution_count": 42,
   "metadata": {},
   "outputs": [
    {
     "name": "stdout",
     "output_type": "stream",
     "text": [
      "precision: 0.8888888888888888\n",
      "recall: 0.8333333333333334\n",
      "f1: 0.8222222222222223\n",
      "accuracy: 0.8\n",
      "Confusion matrix: \n",
      "[[1 0 1]\n",
      " [0 1 0]\n",
      " [0 0 2]]\n"
     ]
    }
   ],
   "source": [
    "eval = Evaluate(labels[:5], preds)\n",
    "eval.get_evaluation_report()"
   ]
  },
  {
   "cell_type": "code",
   "execution_count": 43,
   "metadata": {
    "id": "77s6o3ZkabCY"
   },
   "outputs": [
    {
     "name": "stdout",
     "output_type": "stream",
     "text": [
      "Wall time: 26.3 ms\n"
     ]
    }
   ],
   "source": [
    "%%time\n",
    "knc = KNeighborsClassifier(n_neighbors = 5)\n",
    "knc.fit(x_train, y_train.astype('int'))\n",
    "y_pred = knc.predict(x_test[:100])"
   ]
  },
  {
   "cell_type": "code",
   "execution_count": 45,
   "metadata": {},
   "outputs": [
    {
     "name": "stdout",
     "output_type": "stream",
     "text": [
      "precision: 0.7131297964631299\n",
      "recall: 0.7025462962962963\n",
      "f1: 0.7007604974356892\n",
      "accuracy: 0.7\n",
      "Confusion matrix: \n",
      "[[23  7  6]\n",
      " [ 1 24  7]\n",
      " [ 3  6 23]]\n"
     ]
    }
   ],
   "source": [
    "eval = Evaluate(labels[:100], y_pred)\n",
    "eval.get_evaluation_report()"
   ]
  },
  {
   "cell_type": "markdown",
   "metadata": {
    "id": "A6rb5SKKW9nY"
   },
   "source": [
    "Για τους χρόνους εκτέλεσης για k = 50 τρέχουμε τα 3 παρακάτω κελιά:"
   ]
  },
  {
   "cell_type": "code",
   "execution_count": 46,
   "metadata": {
    "id": "YvDbD3u7W9nZ"
   },
   "outputs": [
    {
     "name": "stdout",
     "output_type": "stream",
     "text": [
      "Wall time: 5.11 s\n"
     ]
    }
   ],
   "source": [
    "%%time\n",
    "knn = KNN(x_train, y_train, k = 50, distance = 'euclidean')\n",
    "preds = [knn.classify(x_test[i]) for i in range(100)]"
   ]
  },
  {
   "cell_type": "code",
   "execution_count": 47,
   "metadata": {},
   "outputs": [
    {
     "name": "stdout",
     "output_type": "stream",
     "text": [
      "precision: 0.7288477951635847\n",
      "recall: 0.7141203703703703\n",
      "f1: 0.710416454536198\n",
      "accuracy: 0.71\n",
      "Confusion matrix: \n",
      "[[22  8  6]\n",
      " [ 1 24  7]\n",
      " [ 2  5 25]]\n"
     ]
    }
   ],
   "source": [
    "eval = Evaluate(labels[:100], preds)\n",
    "eval.get_evaluation_report()"
   ]
  },
  {
   "cell_type": "code",
   "execution_count": 48,
   "metadata": {
    "id": "4YpuwMD0W9nZ"
   },
   "outputs": [
    {
     "name": "stdout",
     "output_type": "stream",
     "text": [
      "Wall time: 554 ms\n"
     ]
    }
   ],
   "source": [
    "%%time\n",
    "knn = KNN(x_train, y_train, k = 50, distance = 'cosine')\n",
    "preds = [knn.classify(x_test[i]) for i in range(5)]"
   ]
  },
  {
   "cell_type": "code",
   "execution_count": 49,
   "metadata": {},
   "outputs": [
    {
     "name": "stdout",
     "output_type": "stream",
     "text": [
      "precision: 0.8888888888888888\n",
      "recall: 0.8333333333333334\n",
      "f1: 0.8222222222222223\n",
      "accuracy: 0.8\n",
      "Confusion matrix: \n",
      "[[1 0 1]\n",
      " [0 1 0]\n",
      " [0 0 2]]\n"
     ]
    }
   ],
   "source": [
    "eval = Evaluate(labels[:5], preds)\n",
    "eval.get_evaluation_report()"
   ]
  },
  {
   "cell_type": "code",
   "execution_count": 37,
   "metadata": {
    "id": "3h4GOLcNW9nZ"
   },
   "outputs": [
    {
     "name": "stdout",
     "output_type": "stream",
     "text": [
      "Wall time: 24.5 ms\n"
     ]
    }
   ],
   "source": [
    "%%time\n",
    "knc = KNeighborsClassifier(n_neighbors = 50)\n",
    "knc.fit(x_train, y_train.astype('int'))\n",
    "y_pred = knc.predict(x_test[:100])"
   ]
  },
  {
   "cell_type": "code",
   "execution_count": 50,
   "metadata": {},
   "outputs": [
    {
     "name": "stdout",
     "output_type": "stream",
     "text": [
      "precision: 0.7131297964631299\n",
      "recall: 0.7025462962962963\n",
      "f1: 0.7007604974356892\n",
      "accuracy: 0.7\n",
      "Confusion matrix: \n",
      "[[23  7  6]\n",
      " [ 1 24  7]\n",
      " [ 3  6 23]]\n"
     ]
    }
   ],
   "source": [
    "eval = Evaluate(labels[:100], y_pred)\n",
    "eval.get_evaluation_report()"
   ]
  },
  {
   "cell_type": "code",
   "execution_count": 51,
   "metadata": {},
   "outputs": [
    {
     "name": "stdout",
     "output_type": "stream",
     "text": [
      "Wall time: 5.17 s\n"
     ]
    }
   ],
   "source": [
    "%%time\n",
    "knn = KNN(x_train, y_train, k = 1, distance = 'euclidean')\n",
    "preds = [knn.classify(x_test[i]) for i in range(100)]"
   ]
  },
  {
   "cell_type": "code",
   "execution_count": 53,
   "metadata": {},
   "outputs": [
    {
     "name": "stdout",
     "output_type": "stream",
     "text": [
      "precision: 0.6463954002653693\n",
      "recall: 0.6284722222222222\n",
      "f1: 0.6318181818181818\n",
      "accuracy: 0.63\n",
      "Confusion matrix: \n",
      "[[24  7  5]\n",
      " [ 0 21 11]\n",
      " [ 4 10 18]]\n"
     ]
    }
   ],
   "source": [
    "eval = Evaluate(labels[:100], preds)\n",
    "eval.get_evaluation_report()"
   ]
  },
  {
   "cell_type": "code",
   "execution_count": 58,
   "metadata": {},
   "outputs": [
    {
     "name": "stdout",
     "output_type": "stream",
     "text": [
      "Wall time: 51 s\n"
     ]
    }
   ],
   "source": [
    "%%time\n",
    "knn = KNN(x_train, y_train, k = 100, distance = 'euclidean')\n",
    "preds = [knn.classify(x_test[i]) for i in range(1000)]"
   ]
  },
  {
   "cell_type": "code",
   "execution_count": 59,
   "metadata": {},
   "outputs": [
    {
     "name": "stdout",
     "output_type": "stream",
     "text": [
      "precision: 0.7177679923580532\n",
      "recall: 0.7053023736664144\n",
      "f1: 0.702678049501198\n",
      "accuracy: 0.704\n",
      "Confusion matrix: \n",
      "[[200  56  81]\n",
      " [ 10 266  80]\n",
      " [ 41  28 238]]\n"
     ]
    }
   ],
   "source": [
    "eval = Evaluate(labels[:1000], preds)\n",
    "eval.get_evaluation_report()"
   ]
  },
  {
   "cell_type": "markdown",
   "metadata": {
    "id": "bc9ySKoRaek-"
   },
   "source": [
    "## Σχολιασμός\n",
    "- To k δεν φαίνεται να έχει επίδραση στον χρόνο εκτέλεσης. Εξάλλου ο πίνακας με τους κοντινότερους γείτονες ταξινομείται ολόκληρος κάθε φορα στον αλγόριθμο μας, ανεξάρτητα απο την τιμή του k.<br>\n",
    "- Το k δεν φαίνεται να επιδρά σηματνικά ούτε στην απόδοση του classifier.<br>\n",
    "- Όσο τα k και το δείγμα των δεδομένων (x_train) δεν έχουν υπερβολικά μικρές τιμές τα metrics φαίνονται να παραμένουν σταθερά.<br>\n",
    "- Ο έτοιμος classifier είναι αρκετά γρηγορότερος απο την δική μας υλοποίηση. Τα metrics όμως είναι σχεδόν παρόμοια και στις δυο περιπτώσεις.<br>"
   ]
  },
  {
   "cell_type": "markdown",
   "metadata": {
    "id": "Xe17UwwLag5Y"
   },
   "source": [
    "# 3ο Μέρος: Naive Bayes\n",
    "Στο τρίτο μέρος της άσκησης θα υλοποιήσετε τον αλγόριθμο Naive Bayes. Ας θυμηθούμε από τις διαφάνειες:\n",
    "\n",
    "**Υποθέσεις:**\n",
    "- Τα χαρακτηριστικά είναι boolean αντί για συνεχή, δηλαδή παίρνουν δύο τιμές 0 ή 1. Συνεπώς, χρειάζεται να τροποποιήσουμε τα χαρακτηριστικά του dataset μας.\n",
    "  - Για το συγκεκριμένο πρόβλημα μπορούμε να 'σπάσουμε' τις τιμές κάθε χαρακτηριστικού σε N διαφορετικά bins. Για παράδειγμα, για ένα χαρακτηριστικό που οι τιμές του κυμαίνονται στο [0, 1], για Ν=5, θα έχουμε τα ακόλουθα bins: [0, 0.2), [0.2, 0.4), [0.4, 0.6), [0.6, 0.8), [0.8, 1]. (Γι αυτό το λόγο στα προηγούμενα βήματα αναφέραμε ότι είναι σημαντικό να έχουμε τα χαρακτηριστικά μας στο [0, 1]!)\n",
    "  \n",
    "- Η πιθανότητα ένα στοιχείο με χαρακτηριστικά x να ανήκει στην κλάση i δίνεται από τον τύπο:\n",
    "$$p(i|x)=\\frac{p(i)\\cdot{\\prod_{k=1}^p}p(x^{(k)}|i)}{\\sum_{j=1}^pp(x^{(k)}|j)}$$\n",
    "- Για να ταξινομήσουμε ένα διάνυσμα χαρακτηριστικών x σε μια κλάση i επιλέγουμε την κλάση που μεγιστοποιεί την παραπάνω πιθανότητα\n",
    "  - Μπορούμε για τη σύγκριση να αγνοήσουμε τον παρονομαστή, αφού για όλες τις κλάσεις θα είναι ίδιος"
   ]
  },
  {
   "cell_type": "code",
   "execution_count": 60,
   "metadata": {
    "id": "GNbBhsg2ach8"
   },
   "outputs": [],
   "source": [
    "# κάνουμε κάθε μεταβλήτη του συνόλου εκπαίδευσης διακρίτη σε σε διαστήματα \n",
    "\n",
    "def discretize(x, num_of_classes = 5):  \n",
    "    x_r = []\n",
    "    for row in x:\n",
    "        discrete = []\n",
    "        for i, feature in enumerate(row):\n",
    "            discrete_feature = [0] * num_of_classes\n",
    "            for j, v in enumerate(np.linspace(0, 1, num_of_classes + 1)):\n",
    "                if float(feature) < v:\n",
    "                    break\n",
    "            discrete_feature[j-1] = 1\n",
    "            discrete += discrete_feature\n",
    "        x_r.append(discrete)\n",
    "    return np.array(x_r)\n",
    "\n",
    "x_train_r = discretize(x_train)\n",
    "x_test_r = discretize(x_test)"
   ]
  },
  {
   "cell_type": "markdown",
   "metadata": {
    "id": "lFORd6XJakZl"
   },
   "source": [
    "Παρακάτω σας δίνεται η κλάση NaiveBayes που υλοποιεί τον αλγόριθμο. Καλείστε αρχικά να υπολογίσετε την πιθανότητα $p(x^{(k)}|i)$ για διάνυσμα χαρακτηριστκών $x$ και κατηγορία $i$ στη μέθοδο compute_probabilities. Στη συνέχεια θα υπολογίσετε την πιθανότητα $p(i|x)$ στη μέθοδο predict."
   ]
  },
  {
   "cell_type": "code",
   "execution_count": 75,
   "metadata": {
    "id": "ufKo5f5yaiqH"
   },
   "outputs": [],
   "source": [
    "class NaiveBayes:\n",
    "    def __init__(self, x, y):\n",
    "        self.x = x\n",
    "        self.y = y\n",
    "        ## pC is a vector with the probability of each class\n",
    "        self.pC = np.zeros((len(genres),))\n",
    "        ## pxC is an array with all probabilities p(xi|C)\n",
    "        self.pxC = np.zeros((x.shape[-1], len(genres)))\n",
    "        \n",
    "        #My line\n",
    "        self.pxzC = np.zeros((x.shape[-1], len(genres)))\n",
    "        \n",
    "        ## Compute the probabilities\n",
    "        self.compute_probabilities()\n",
    "\n",
    "    def compute_probabilities(self):\n",
    "        ## Compute p(C) for each class\n",
    "        for label in self.y: self.pC[label] += 1\n",
    "        \n",
    "        ## Added this line\n",
    "        cheat = self.pC\n",
    "        ###\n",
    "        \n",
    "        self.pC = self.pC / self.y.shape[0]\n",
    "        \n",
    "        ## Compute p(xi|C) for each feature xi and class C\n",
    "        # hint: you can use one or more for loops\n",
    "        ###################\n",
    "        ## Your code below\n",
    "        helparr = np.zeros((len(genres),self.x.shape[-1]))\n",
    "        helparrz = np.zeros((len(genres),self.x.shape[-1]))\n",
    "        index = 0\n",
    "        for row in self.x:\n",
    "            rowz = row - [1]*self.x.shape[-1]\n",
    "            helparrz[self.y[index]] += rowz\n",
    "            helparr[self.y[index]] += row\n",
    "            index += 1\n",
    "        for i in range(len(genres)):\n",
    "            helparr[i] = (helparr[i] + 50/2)/(cheat[i] + 50)\n",
    "            helparrz[i] = (helparrz[i] + 50/2)/(cheat[i] + 50) \n",
    "        \n",
    "        self.pxC = helparr.transpose()\n",
    "        self.pxzC = helparrz.transpose()\n",
    "        ## Your code above\n",
    "        ##################\n",
    "\n",
    "    def predict(self, x):\n",
    "        ## ~Probability of x belonging to each class\n",
    "        ## (not actucal probability since we ignore denominator)\n",
    "        pcX = np.ones((len(genres),))\n",
    "        xsize = self.x.shape[-1]\n",
    "        \n",
    "        for i in range(len(genres)):\n",
    "            \n",
    "          # hint: We have probabilities p({x_j=1}|i) in self.pxC\n",
    "          # We also need p({x_j=0}|i) for computing p(x|i)\n",
    "          #################\n",
    "          ## Your code below\n",
    "            pcX[i] *= self.pC[i]\n",
    "            index = 0\n",
    "            for c in x:\n",
    "                if c == 0:\n",
    "                    pcX[i] *= self.pxzC[index][i]\n",
    "                else:\n",
    "                    pcX[i] *= self.pxC[index][i]\n",
    "                index += 1\n",
    "\n",
    "\n",
    "\n",
    "          ## Your code above\n",
    "          ##################\n",
    "        return np.argmax(pcX)"
   ]
  },
  {
   "cell_type": "markdown",
   "metadata": {
    "id": "cO9h_Q8bbAgF"
   },
   "source": [
    "## Αξιολόγηση του Naive Bayes"
   ]
  },
  {
   "cell_type": "code",
   "execution_count": 76,
   "metadata": {
    "id": "2PzuaP48amDv"
   },
   "outputs": [
    {
     "name": "stdout",
     "output_type": "stream",
     "text": [
      "precision: 0.6564474173169825\n",
      "recall: 0.6099537037037037\n",
      "f1: 0.6173333788038967\n",
      "accuracy: 0.61\n",
      "Confusion matrix: \n",
      "[[22  7  7]\n",
      " [ 0 20 12]\n",
      " [ 1 12 19]]\n"
     ]
    }
   ],
   "source": [
    "nb = NaiveBayes(x_train_r, y_train)\n",
    "preds = [nb.predict(i) for i in x_test_r[:100]]\n",
    "eval = Evaluate(y_test[:100].tolist(), preds)\n",
    "eval.get_evaluation_report()"
   ]
  },
  {
   "cell_type": "markdown",
   "metadata": {
    "id": "xMUHg-dubFa2"
   },
   "source": [
    "## Έτοιμος Naive Bayes\n",
    "\n",
    "Όπως με τους περισσότερους αλγορίθμους μηχανικής μάθησης, υπάρχουν έτοιμες βελτιστοποιημένες υλοποιήσεις για τον Naive Bayes. Παρακάτω ο Gaussian Naive Bayes από το Sklearn. Σε αντίθεση με τη δική μας υλοποίηση, ο συγκεκριμένος δουλεύει και με συνεχή δεδομένα, αφού πρώτα κάνει την υπόθεση πως κάθε χαρακτηριστικό ακολουθεί κανονική κατανομή ([documentation](https://scikit-learn.org/stable/modules/generated/sklearn.naive_bayes.GaussianNB.html))."
   ]
  },
  {
   "cell_type": "code",
   "execution_count": 77,
   "metadata": {
    "id": "qNir3SOIW9nb"
   },
   "outputs": [
    {
     "name": "stdout",
     "output_type": "stream",
     "text": [
      "precision: 0.7425641025641027\n",
      "recall: 0.7233796296296297\n",
      "f1: 0.7214020219031968\n",
      "accuracy: 0.72\n",
      "Confusion matrix: \n",
      "[[23  8  5]\n",
      " [ 0 25  7]\n",
      " [ 2  6 24]]\n"
     ]
    }
   ],
   "source": [
    "from sklearn.naive_bayes import GaussianNB\n",
    "\n",
    "gnb = GaussianNB()\n",
    "y_pred = gnb.fit(x_train.tolist(), y_train.tolist()).predict(x_test[:100].tolist())\n",
    "\n",
    "eval = Evaluate(y_test[:100].tolist(), y_pred.tolist())\n",
    "eval.get_evaluation_report()"
   ]
  },
  {
   "cell_type": "markdown",
   "metadata": {
    "id": "KaecLreybI-3"
   },
   "source": [
    "## Σύγκριση υλοποιήσεων\n",
    "\n",
    "Όμοια με πριν θα συγκρίνετε τα αποτελέσματα και τους χρόνους εκτέλεσης για τις δύο υλοποιήσεις. Σχολιάστε την επίδοση σε κάθε περίπτωση. Ποιες από τις παραδοχές που κάναμε δεν ισχύουν;"
   ]
  },
  {
   "cell_type": "code",
   "execution_count": 78,
   "metadata": {
    "id": "Lz-k1DL-bG9v"
   },
   "outputs": [
    {
     "name": "stdout",
     "output_type": "stream",
     "text": [
      "Wall time: 79.5 ms\n"
     ]
    }
   ],
   "source": [
    "%%time\n",
    "nb = NaiveBayes(x_train_r,y_train)\n",
    "preds = [ nb.predict(i) for i in x_test_r[:100]]"
   ]
  },
  {
   "cell_type": "code",
   "execution_count": 79,
   "metadata": {},
   "outputs": [
    {
     "name": "stdout",
     "output_type": "stream",
     "text": [
      "precision: 0.6564474173169825\n",
      "recall: 0.6099537037037037\n",
      "f1: 0.6173333788038967\n",
      "accuracy: 0.61\n",
      "Confusion matrix: \n",
      "[[22  7  7]\n",
      " [ 0 20 12]\n",
      " [ 1 12 19]]\n"
     ]
    }
   ],
   "source": [
    "eval = Evaluate(y_test[:100].tolist(), preds)\n",
    "eval.get_evaluation_report()"
   ]
  },
  {
   "cell_type": "code",
   "execution_count": 80,
   "metadata": {
    "id": "neUU0A-AW9nc"
   },
   "outputs": [
    {
     "name": "stdout",
     "output_type": "stream",
     "text": [
      "Wall time: 13 ms\n"
     ]
    }
   ],
   "source": [
    "%%time\n",
    "gnb = GaussianNB()\n",
    "y_pred = gnb.fit(x_train.tolist(), y_train.tolist()).predict(x_test[:100])"
   ]
  },
  {
   "cell_type": "code",
   "execution_count": 81,
   "metadata": {},
   "outputs": [
    {
     "name": "stdout",
     "output_type": "stream",
     "text": [
      "precision: 0.7425641025641027\n",
      "recall: 0.7233796296296297\n",
      "f1: 0.7214020219031968\n",
      "accuracy: 0.72\n",
      "Confusion matrix: \n",
      "[[23  8  5]\n",
      " [ 0 25  7]\n",
      " [ 2  6 24]]\n"
     ]
    }
   ],
   "source": [
    "eval = Evaluate(y_test[:100].tolist(), y_pred.tolist())\n",
    "eval.get_evaluation_report()"
   ]
  },
  {
   "cell_type": "code",
   "execution_count": 82,
   "metadata": {},
   "outputs": [],
   "source": [
    "x_train_mine = discretize(x_train, 100)\n",
    "x_test_mine = discretize(x_test, 100)"
   ]
  },
  {
   "cell_type": "code",
   "execution_count": 84,
   "metadata": {},
   "outputs": [
    {
     "name": "stdout",
     "output_type": "stream",
     "text": [
      "Wall time: 426 ms\n"
     ]
    }
   ],
   "source": [
    "%%time\n",
    "nb = NaiveBayes(x_train_mine, y_train)\n",
    "preds = [nb.predict(i) for i in x_test_mine[:100]]"
   ]
  },
  {
   "cell_type": "code",
   "execution_count": 85,
   "metadata": {},
   "outputs": [
    {
     "name": "stdout",
     "output_type": "stream",
     "text": [
      "precision: 0.7272254830031794\n",
      "recall: 0.7048611111111112\n",
      "f1: 0.6966383067026354\n",
      "accuracy: 0.7\n",
      "Confusion matrix: \n",
      "[[21  7  8]\n",
      " [ 2 20 10]\n",
      " [ 1  2 29]]\n"
     ]
    }
   ],
   "source": [
    "eval = Evaluate(y_test[:100].tolist(), preds)\n",
    "eval.get_evaluation_report()"
   ]
  },
  {
   "cell_type": "markdown",
   "metadata": {
    "id": "SAmP4BrCbOB9"
   },
   "source": [
    "## Σχολιασμός\n",
    "\n",
    "- Η έτοιμη υλοποίηση είναι και γρηγορότερη και καλύτερη στις προβλέψεις της.<br>\n",
    "- Όπως αναγράφεται και στην εκφώνηση η έτοιμη υλοποίηση δουλεύει με συνεχή δεδομένα, ενώ εμείς χωρίσαμε τις τιμές του κάθε χαρακτηρηστικού σε bins. Αυξάνοντας τον αριθμό τους αυξάνεται σημαντικά και η απόδοση των προλέψεων.<br>\n",
    "- Για τον υπολογισμό των πιθανοτήτων υποθέσαμε οτι οι πιθανότητες να έχουν κάποιο χαρακτηρηστικό είναι ανεξάρτητες το οποίο ίσως να μην ισχύει.<br> "
   ]
  },
  {
   "cell_type": "markdown",
   "metadata": {
    "id": "8B3FYDfnW9nd"
   },
   "source": [
    "# 4ο Μέρος: Multi-Layer Perceptron \n",
    "\n",
    "Στο τέταρτο μέρος της άσκησης θα κατασκευάσετε ένα πολυεπίπεδο νευρωνικό δίκτυο. Ο ταξινομητής αυτός θα εκπαιδευτεί στο να ταξινομεί τα δείγματα των μουσικών κομματιών σε μια από τις 3 διαφορετικές κλάσεις που επιλέχθηκαν (Electronic, Rock, Rap). Αρχικά, θα υλοποιήσετε το μοντέλο αυτό χρησιμοποιώντας αποκλειστικά την βιβλιοθήκη numpy ενώ στην συνέχεια θα χρησιμοποιήσετε μια έτοιμη κλάση για την κατασκευή του ίδιου μοντέλου. \n",
    "\n",
    "Ας θυμηθούμε από τις διαφάνειες: \n",
    "\n",
    "Κάθε MLP αποτελείται από επίπεδα όπου το κάθε ένα από αυτά χωρίζεται στα παρακάτω μέρη: \n",
    "\n",
    "$$ z(x) = w^Τx + b $$ \n",
    "$$ f(x) = a(z(x))$$ \n",
    "\n",
    "όπου $w$, $b$ είναι τα βάρη του επιπέδου.  Η έξοδος z(x) είναι η απόκριση κάθε νευρώνα πριν την συνάρτηση ενεργοποίησης ενώ η f(x) μετά.  Κάθε επίπεδο συνδέεται με ένα επόμενο του οποίου η είσοδός του αποτελεί την έξοδο (με την συνάρτηση ενεργοποίησης) του προηγούμενου. \n",
    "\n",
    "Στο μέρος αυτό καλείστε να συμπληρώσετε ορισμένα σημεία κώδικα ώστε να επιτυγχάνεται αυτή η λειτουργικότητα. Στην συνέχεια θα υλοποιήσετε το ίδιο ακριβώς μοντέλο χρησιμοποιώντας όμως μια έτοιμη βιβλιοθήκη και θα συγκρίνετε τα αποτελέσματά τους (χρόνο, σκορ κ.α.). \n",
    "\n",
    "Σε αυτό το σημείο της άσκησης θα επιλύσετε το παραπάνω πρόβλημα κατασκευάζοντας ένα πολυεπίπεδο νευρωνικό δίκτυο. Αρχικά θα υλοποιήσετε το νευρωνικό χωρίς να χρησιμοποιήσετε κάποια έτοιμη κλάση κάποιας βιβλιοθήκης (όπως scikit-learn, keras), ενώ στην συνέχεια θα κατασκευάσετε το ίδιο σύστημα με την χρήση της βιβλιοθήκης scikit-learn. \n",
    "\n",
    "Στο παρακάτω κελί κώδικα σάς δίνεται η βασική δομή του επιπέδου ενός πολυεπίπεδου νευρωνικού δικτύου. Η παρακάτω κλάση δεν υλοποιεί κάποιο πραγματικό επίπεδο (όπως Dense) αλλά αυτή χρησιμοποιείται για την παρουσίαση των λειτουργιών κάθε επιπέδου.\n",
    "\n",
    "Ουσιαστικά κάθε επίπεδο ενός νευρωνικού δικτύου πρέπει να είναι σε θέση να κάνει: \n",
    "\n",
    "\n",
    "1.   Για μια είσοδο να υπολογίζει την έξοδο κάθε νευρώνα. Αυτό επιτυγχάνεται μέσω της μεθόδου forward η όποια δέχεται ως όρισμα μια είσοδο  και επιστρέφει έναν πίνακα με τις εξόδους κάθε νευρώνα του επιπέδου. \n",
    "\n",
    "2.   Να υπολογίζει τις μεταβολές οι όποιες πρέπει να γίνουν στα βάρη κάθε επιπέδου, ανάλογα με το πόσο καλά-κοντινά ήταν τα αποτελέσματα του επιπέδου στα πραγματικά. Η λειτουργία αυτή θα μας βοηθήσει στην ανανέωση των βαρών του δικτύου και συνεπώς στη σωστή εκπαίδευσή του. Η λειτουργικότητα αυτή επιτυγχάνεται μέσω της μεθόδου backward. \n",
    "\n",
    "  \n",
    "\n",
    "Η λειτουργικότητα, συνεπώς, κάθε επιπέδου καθορίζεται από την συνάρτηση που υλοποιείται στην μέθοδο forward. Ένα instance της παρακάτω κλάσης, συνεπώς, επιστρέφει ως έξοδο την είσοδο κάθε νευρώνα (ταυτοτική συνάρτηση) όποτε δεν προσφέρει κάποια υψηλή λειτουργικότητα. Στην παρακάτω κλάση δεν έχετε να προσθέσετε κάτι, απλά να μελετήσετε και να καταλάβετε την δομή που πρέπει να έχει ένα επίπεδο. "
   ]
  },
  {
   "cell_type": "code",
   "execution_count": 86,
   "metadata": {
    "id": "jgx1VIMmbMQP"
   },
   "outputs": [],
   "source": [
    "class Layer:\n",
    "    def __init__(self):\n",
    "        \"\"\"Here we can initialize layer parameters (if any) and auxiliary stuff.\"\"\"\n",
    "        # A dummy layer does nothing\n",
    "        pass\n",
    "    \n",
    "    def forward(self, input):\n",
    "        \"\"\"\n",
    "        Takes input data of shape [batch, input_units], returns output data [batch, output_units]\n",
    "        \"\"\"\n",
    "        # A dummy layer just returns whatever it gets as input.\n",
    "        return input\n",
    "\n",
    "    def backward(self, input, grad_output):\n",
    "        # The gradient of a dummy layer is precisely grad_output, but we'll write it more explicitly\n",
    "        num_units = input.shape[1]\n",
    "        \n",
    "        d_layer_d_input = np.eye(num_units)\n",
    "        \n",
    "        return np.dot(grad_output, d_layer_d_input) # chain rule"
   ]
  },
  {
   "cell_type": "markdown",
   "metadata": {
    "id": "r1iQCroAbV-F"
   },
   "source": [
    "Στο σημείο αυτό αξίζει να αναφερθεί ότι για την σωστή εκπαίδευση του δικτύου (σε πρακτικό επίπεδο) πρέπει να διαχωριστεί η έξοδος κάθε νευρώνα πριν και μετά την συνάρτηση ενεργοποίησης. Έτσι η παραπάνω μέθοδος forward της κλάσης layer πρέπει να υπολογίζει την έξοδο του επιπέδου χωρίς την συνάρτηση ενεργοποίησης και κάποια άλλη κλάση να υπολογίζει το αποτέλεσμα με αυτή.  \n",
    "\n",
    "  \n",
    "\n",
    "Έκτος όμως από την εκπαίδευση του δικτύου, ο διαχωρισμός αυτός μας βοηθά σημαντικά και κατά την φάση σχεδιασμού της  αρχιτεκτονικής μιας και μας δίνει την δυνατότητα να αλλάζουμε την συνάρτηση ενεργοποίησης χωρίς κάθε φόρα να πρέπει να αλλάξουμε ολόκληρη την κλάση layer. Για τους παραπάνω λόγους θα χειριζόμαστε την συνάρτηση ενεργοποίησης σαν ένα ξεχωριστό επίπεδο με τις δικές της μεθόδους: forward, backward.  \n",
    "\n",
    "  \n",
    "\n",
    "Παρακάτω παρουσιάζεται η κλάση η όποια υλοποιεί την λειτουργικότητα της συνάρτησης ενεργοποίησης [ReLU](https://en.wikipedia.org/wiki/Rectifier_(neural_networks)).  \n",
    "\n",
    "  \n",
    "\n",
    "Με την ίδια λογική μπορούμε να υλοποιήσουμε οποιαδήποτε άλλη συνάρτηση ενεργοποίησης θέλουμε π.χ. sigmoid, tanh κ.ο.κ. και επιπλέον μπορούμε να τις εναλλάσσουμε μεταξύ επιπέδων χωρίς δυσκολία. "
   ]
  },
  {
   "cell_type": "code",
   "execution_count": 87,
   "metadata": {
    "id": "6P33228VbYIf"
   },
   "outputs": [],
   "source": [
    "class ReLU(Layer):\n",
    "    def __init__(self):\n",
    "        \"\"\"ReLU layer simply applies elementwise rectified linear unit to all inputs\"\"\"\n",
    "        pass\n",
    "    \n",
    "    def forward(self, input):\n",
    "        \"\"\"Apply elementwise ReLU to [batch, input_units] matrix\"\"\"\n",
    "        relu_forward = np.maximum(0, input)\n",
    "        return relu_forward\n",
    "    \n",
    "    def backward(self, input, grad_output):\n",
    "        \"\"\"Compute gradient of loss w.r.t. ReLU input\"\"\"\n",
    "        relu_grad = input > 0\n",
    "        return grad_output*relu_grad"
   ]
  },
  {
   "cell_type": "markdown",
   "metadata": {
    "id": "Rrrub_76ba19"
   },
   "source": [
    "Η κλάση Dense υλοποιεί ένα επίπεδο dense όπου η έξοδος κάθε νευρώνα (χωρίς τη  συνάρτηση ενεργοποίησης) υπολογίζεται από την παρακάτω εξίσωση: \n",
    "\n",
    "  \n",
    "\n",
    "  \n",
    "\n",
    "$$ z(x) = w^Τx + b $$ \n",
    "\n",
    "  \n",
    "\n",
    "όπου $w$, $b$ είναι τα βάρη του επιπέδου.   \n",
    "\n",
    "  \n",
    "\n",
    "Συνεπώς το δίκτυο είναι απαραίτητο να διατηρεί τους δυο πίνακες με τα βάρη οι οποίοι στην μέθοδο forward θα χρησιμοποιούνται για τον υπολογισμό της εξόδου και θα ανανεώνονται από την μέθοδο backward. Οι πίνακες αυτοί δημιουργούνται κατά την κατασκευή κάθε στιγμιότυπου και αρχικοποιούνται, ο πρώτος τυχαία και ο δεύτερος με μηδενικά.  Στο σημείο αυτό καλείστε να συμπληρώσετε την μέθοδο forward με κατάλληλο τρόπο ώστε να επιτυγχάνεται η επιθυμητή λειτουργικότητα. "
   ]
  },
  {
   "cell_type": "code",
   "execution_count": 88,
   "metadata": {
    "id": "HEnuIuOHbZge"
   },
   "outputs": [],
   "source": [
    "class Dense(Layer):\n",
    "    def __init__(self, input_units, output_units, learning_rate = 0.1):\n",
    "        self.input_units = input_units\n",
    "        self.output_units = output_units\n",
    "        \n",
    "        self.learning_rate = learning_rate\n",
    "        self.weights = np.random.normal(loc = 0.0, \n",
    "                                        scale = np.sqrt(2 / (input_units + output_units)), \n",
    "                                        size = (input_units, output_units))\n",
    "        self.biases = np.zeros(output_units)\n",
    "        \n",
    "    def forward(self, input):\n",
    "        \"\"\"\n",
    "        Perform an affine transformation:\n",
    "        f(x) = <W*x> + b\n",
    "        \n",
    "        input shape: [number of inputs, input units]\n",
    "        output shape: [number of inputs, output units]\n",
    "        \"\"\"\n",
    "        ###################\n",
    "        ## Your code below\n",
    "        ## hint: numpy.dot\n",
    "\n",
    "        output = np.dot(input, self.weights) + self.biases\n",
    "        \n",
    "        ## Your code above\n",
    "        ##################\n",
    "        return output\n",
    "\n",
    "    def backward(self, input, grad_output):\n",
    "        # compute d f / d x = d f / d dense * d dense / d x\n",
    "        # where d dense/ d x = weights transposed\n",
    "        grad_input = np.dot(grad_output, self.weights.T)\n",
    "\n",
    "        # compute gradient w.r.t. weights and biases\n",
    "        grad_weights = np.dot(input.T, grad_output)\n",
    "        grad_biases = grad_output.mean(axis = 0) * input.shape[0]\n",
    "        assert grad_weights.shape == self.weights.shape and grad_biases.shape == self.biases.shape\n",
    "\n",
    "        # Here we perform a stochastic gradient descent step. \n",
    "        self.weights = self.weights - self.learning_rate * grad_weights\n",
    "        self.biases = self.biases - self.learning_rate * grad_biases\n",
    "        return grad_input"
   ]
  },
  {
   "cell_type": "markdown",
   "metadata": {
    "id": "Ml2jvLeybeRe"
   },
   "source": [
    "Οι παρακάτω συναρτήσεις χρησιμοποιούνται για να μπορεί το δίκτυο να ελέγχει πόσο κοντά βρίσκονται τα αποτελέσματά του στα πραγματικά (Loss function). Όπως είναι λογικό υπάρχουν διαφορετικές τέτοιες συναρτήσεις ανάλογα το πρόβλημα που καλείται να λύσει το δίκτυο. Η παρακάτω συνάρτηση ονομάζεται [softmax](https://en.wikipedia.org/wiki/Softmax_function) και χρησιμοποιείται κατά κύριο λόγο σε προβλήματα ταξινόμησης όπως το συγκεκριμένο. Η softmax δέχεται σαν είσοδο τις ενεργοποιήσεις του τελευταίου επιπέδου και επιστρέφει μια κατανομή πιθανοτήτων για κάθε μια από τις κλάσεις εξόδου (π.χ. κλάση 0 έχει πιθανότητα 0.001,  η κλάση 1 έχει 0.9 κ.ο.κ.).  "
   ]
  },
  {
   "cell_type": "code",
   "execution_count": 89,
   "metadata": {
    "id": "qT7nl_1Gbc0B"
   },
   "outputs": [],
   "source": [
    "def softmax_crossentropy_with_logits(logits, reference_answers):\n",
    "    logits_for_answers = logits[np.arange(len(logits)),reference_answers]\n",
    "    xentropy = - logits_for_answers + np.log(np.sum(np.exp(logits),axis=-1))\n",
    "    return xentropy\n",
    "\n",
    "def grad_softmax_crossentropy_with_logits(logits, reference_answers):\n",
    "    ones_for_answers = np.zeros_like(logits)\n",
    "    ones_for_answers[np.arange(len(logits)),reference_answers] = 1\n",
    "    softmax = np.exp(logits) / np.exp(logits).sum(axis=-1,keepdims=True)\n",
    "    return (- ones_for_answers + softmax) / logits.shape[0]"
   ]
  },
  {
   "cell_type": "markdown",
   "metadata": {
    "id": "5XnSJjxYbhdX"
   },
   "source": [
    "Έχοντας υλοποιήσει τις κλάσεις Dense και ReLU μπορούμε πλέον να κατασκευάσουμε μια κλάση η όποια θα ορίζει ένα πολυεπίπεδο νευρωνικό δίκτυο (MLP). Το δίκτυο αυτό ουσιαστικά αποτελείται από μια ακολουθία Dense επιπέδων όπου το κάθε ένα (εκτός του τελευταίου) ακολουθείται από μια μη-γραμμική συνάρτηση ενεργοποίησης (ReLU). Όμοια με πριν, η κλάση αυτή πρέπει να περιέχει μια μέθοδο forward η όποια θα δέχεται μια είσοδο (εδώ μια εικόνα flatten) και θα επιστρέφει μια έξοδο (εδώ μια κατανομή 3 πιθανοτήτων). Παράλληλα πρέπει να περιέχει και μια μέθοδο fit, η όποια θα εκπαιδεύει το δίκτυο δεδομένου ενός τέτοιου συνόλου (εδώ του x_train). Στο σημείο αυτό χρησιμοποιούνται οι μέθοδοι backward που έχουν οριστεί για κάθε ένα επίπεδο (δεν χρειάζεται να συμπληρώσετε κάτι).  Τέλος θα ήταν βοηθητικό να έχουμε και μια μέθοδο η όποια θα μετατρέπει την κατανομή εξόδου στην επιστρεφόμενη κλάση (predict) για κάποιο ή κάποια στιγμιότυπα του συνόλου δεδομένων.   \n",
    "\n",
    "Το δίκτυο όπως αναφέρθηκε και προηγουμένως αποτελείται από έναν αριθμό Dense επιπέδων κάθε ένα από τα όποια ακολουθείται από μια συνάρτηση ReLU. Η κατασκευή των επιπέδων γίνεται κατά την στιγμή δημιουργίας του δικτύου, όπου δίνεται ως είσοδος μια λίστα με το μέγεθος κάθε επιπέδου, μαζί με το μέγεθος εισόδου. Έτσι για παράδειγμα η παρακάτω γραμμή κώδικα:  \n",
    "``` \n",
    "net = MLP([100, 200, 100, 10], 784)  \n",
    "```  \n",
    "κατασκευάζει ένα MLP το όποιο αποτελείται από 4 επίπεδα με μέγεθος 100, 200, 100, 10. Ο αριθμός των επιπέδων καθώς και του μεγέθους καθενός από αυτά είναι ελεύθερος να οριστεί από τον χρήστη.   \n",
    "Στον constructor της κλάσης ουσιαστικά ορίζεται μια λίστα η όποια περιέχει κάθε ένα από τα επίπεδα που πρέπει να οριστούν, π.χ. για το παραπάνω παράδειγμα η μεταβλητή net.network περιέχει τα εξής στιγμιότυπα των κλάσεων:  \n",
    "\n",
    "``` \n",
    "[Dense(100), ReLU(), Dense(200), ReLU(), Dense(100), ReLU(), Dense(10)]  \n",
    "```  \n",
    "\n",
    "Συνεπώς η λειτουργικότητα του δικτύου όπως και πριν πρέπει να οριστεί στην μέθοδο forward. Στο σημείο αυτό καλείστε να συμπληρώσετε την μέθοδο αυτή έτσι ώστε το δίκτυο να λειτουργεί όπως πρέπει, δηλαδή στο παράδειγμά μας η είσοδος να περνά από το επίπεδο Dense(100), μετά από το ReLU(), στην συνέχεια από το Dense(200) κ.ο.κ. μέχρι και το τελευταίο επίπεδο.  Ο αλγόριθμος αυτός παρουσιάζεται και σε ψευδοκώδικα στην διαφάνεια 33 του μαθήματος. "
   ]
  },
  {
   "cell_type": "code",
   "execution_count": 90,
   "metadata": {
    "id": "MHHcg1unbf21"
   },
   "outputs": [],
   "source": [
    "class MLP:\n",
    "    def __init__(self, shapes, input_dim):\n",
    "        self.shapes = shapes\n",
    "        self.network = [Dense(input_dim, shapes[0])]\n",
    "        self.network.append(ReLU())\n",
    "        for i in range(1, len(self.shapes) - 1):\n",
    "            self.network.append(Dense(shapes[i-1], shapes[i]))\n",
    "            self.network.append(ReLU())\n",
    "        self.network.append(Dense(shapes[i], shapes[-1]))\n",
    "\n",
    "    def forward(self, X):\n",
    "        \"\"\"\n",
    "        Αγόριθμος διφάνειας 33\n",
    "        \"\"\"\n",
    "        activations = []\n",
    "        input = X\n",
    "        # Looping through each layer\n",
    "        for l in self.network:\n",
    "            ###################\n",
    "            ## Your code below\n",
    "            # hint: τροφοδοτούμε την έξοδο κάθε επιπέδου στο επόμενο\n",
    "            \n",
    "            activations.append(l.forward(input))\n",
    "            input = activations[-1]\n",
    "\n",
    "            ## Your code above\n",
    "            ##################        \n",
    "        assert len(activations) == len(self.network)\n",
    "        return activations\n",
    "\n",
    "    def predict(self,X):\n",
    "        \"\"\"\n",
    "        Προβλέπει την έξοδο του δικτύου για ένα ή περισσότερα στιγμιότυπα εισόδου\n",
    "        \"\"\"\n",
    "        logits = self.forward(X)[-1]\n",
    "        return logits.argmax(axis = -1)\n",
    "\n",
    "    def fit(self, X, y):\n",
    "        # Get the layer activations\n",
    "        layer_activations = self.forward(X)\n",
    "        layer_inputs = [X]+layer_activations \n",
    "        logits = layer_activations[-1]\n",
    "\n",
    "        # Compute the loss and the initial gradient\n",
    "        loss = softmax_crossentropy_with_logits(logits,y)\n",
    "        loss_grad = grad_softmax_crossentropy_with_logits(logits,y)\n",
    "\n",
    "        # Propagate gradients through the network\n",
    "        # Reverse propogation as this is backprop\n",
    "        for layer_index in range(len(self.network))[::-1]:\n",
    "            layer = self.network[layer_index]\n",
    "            loss_grad = layer.backward(layer_inputs[layer_index],loss_grad) \n",
    "        return np.mean(loss)"
   ]
  },
  {
   "cell_type": "markdown",
   "metadata": {
    "id": "6zCBcKqvbm4t"
   },
   "source": [
    "## Αξιολόγηση ενός Multi-Layer Perceptron\n",
    "\n",
    "Αφού έχουμε κατασκευάσει τα παραπάνω είμαστε πλέον σε θέση να εκπαιδεύσουμε το MLP. Αυτό γίνεται καλώντας την μέθοδο fit. Στο παρακάτω κελί κώδικα ορίζεται το MLP του παραπάνω παραδείγματος και εκπαιδεύεται για 25 εποχές. Στο τέλος κάθε εποχής παρουσιάζονται τα αποτελέσματα του μαζί με μια γραφική των train και test accuracy. "
   ]
  },
  {
   "cell_type": "code",
   "execution_count": 91,
   "metadata": {
    "id": "4jw-8qN6bjQG"
   },
   "outputs": [
    {
     "name": "stdout",
     "output_type": "stream",
     "text": [
      "Epoch 0\n",
      "Train accuracy: 0.32559121621621623\n",
      "Val accuracy: 0.3505789603350579\n"
     ]
    },
    {
     "data": {
      "image/png": "[encoded data removed]",
      "text/plain": [
       "<Figure size 432x288 with 1 Axes>"
      ]
     },
     "metadata": {
      "needs_background": "light"
     },
     "output_type": "display_data"
    },
    {
     "name": "stdout",
     "output_type": "stream",
     "text": [
      "Epoch 1\n",
      "Train accuracy: 0.3351984797297297\n",
      "Val accuracy: 0.36166543483616653\n"
     ]
    },
    {
     "data": {
      "image/png": "[encoded data removed]",
      "text/plain": [
       "<Figure size 432x288 with 1 Axes>"
      ]
     },
     "metadata": {
      "needs_background": "light"
     },
     "output_type": "display_data"
    },
    {
     "name": "stdout",
     "output_type": "stream",
     "text": [
      "Epoch 2\n",
      "Train accuracy: 0.3532516891891892\n",
      "Val accuracy: 0.3754619364375462\n"
     ]
    },
    {
     "data": {
      "image/png": "[encoded data removed]",
      "text/plain": [
       "<Figure size 432x288 with 1 Axes>"
      ]
     },
     "metadata": {
      "needs_background": "light"
     },
     "output_type": "display_data"
    },
    {
     "name": "stdout",
     "output_type": "stream",
     "text": [
      "Epoch 3\n",
      "Train accuracy: 0.3625422297297297\n",
      "Val accuracy: 0.3789110618378911\n"
     ]
    },
    {
     "data": {
      "image/png": "[encoded data removed]",
      "text/plain": [
       "<Figure size 432x288 with 1 Axes>"
      ]
     },
     "metadata": {
      "needs_background": "light"
     },
     "output_type": "display_data"
    },
    {
     "name": "stdout",
     "output_type": "stream",
     "text": [
      "Epoch 4\n",
      "Train accuracy: 0.37141047297297297\n",
      "Val accuracy: 0.38112835673811285\n"
     ]
    },
    {
     "data": {
      "image/png": "[encoded data removed]",
      "text/plain": [
       "<Figure size 432x288 with 1 Axes>"
      ]
     },
     "metadata": {
      "needs_background": "light"
     },
     "output_type": "display_data"
    },
    {
     "name": "stdout",
     "output_type": "stream",
     "text": [
      "Epoch 5\n",
      "Train accuracy: 0.37024915540540543\n",
      "Val accuracy: 0.3707809805370781\n"
     ]
    },
    {
     "data": {
      "image/png": "[encoded data removed]",
      "text/plain": [
       "<Figure size 432x288 with 1 Axes>"
      ]
     },
     "metadata": {
      "needs_background": "light"
     },
     "output_type": "display_data"
    },
    {
     "name": "stdout",
     "output_type": "stream",
     "text": [
      "Epoch 6\n",
      "Train accuracy: 0.37003800675675674\n",
      "Val accuracy: 0.360679970436068\n"
     ]
    },
    {
     "data": {
      "image/png": "[encoded data removed]",
      "text/plain": [
       "<Figure size 432x288 with 1 Axes>"
      ]
     },
     "metadata": {
      "needs_background": "light"
     },
     "output_type": "display_data"
    },
    {
     "name": "stdout",
     "output_type": "stream",
     "text": [
      "Epoch 7\n",
      "Train accuracy: 0.37732263513513514\n",
      "Val accuracy: 0.3540280857354028\n"
     ]
    },
    {
     "data": {
      "image/png": "[encoded data removed]",
      "text/plain": [
       "<Figure size 432x288 with 1 Axes>"
      ]
     },
     "metadata": {
      "needs_background": "light"
     },
     "output_type": "display_data"
    },
    {
     "name": "stdout",
     "output_type": "stream",
     "text": [
      "Epoch 8\n",
      "Train accuracy: 0.37880067567567566\n",
      "Val accuracy: 0.36215816703621584\n"
     ]
    },
    {
     "data": {
      "image/png": "[encoded data removed]",
      "text/plain": [
       "<Figure size 432x288 with 1 Axes>"
      ]
     },
     "metadata": {
      "needs_background": "light"
     },
     "output_type": "display_data"
    },
    {
     "name": "stdout",
     "output_type": "stream",
     "text": [
      "Epoch 9\n",
      "Train accuracy: 0.38144003378378377\n",
      "Val accuracy: 0.3574772111357477\n"
     ]
    },
    {
     "data": {
      "image/png": "[encoded data removed]",
      "text/plain": [
       "<Figure size 432x288 with 1 Axes>"
      ]
     },
     "metadata": {
      "needs_background": "light"
     },
     "output_type": "display_data"
    },
    {
     "name": "stdout",
     "output_type": "stream",
     "text": [
      "Epoch 10\n",
      "Train accuracy: 0.3915751689189189\n",
      "Val accuracy: 0.36363636363636365\n"
     ]
    },
    {
     "data": {
      "image/png": "[encoded data removed]",
      "text/plain": [
       "<Figure size 432x288 with 1 Axes>"
      ]
     },
     "metadata": {
      "needs_background": "light"
     },
     "output_type": "display_data"
    },
    {
     "name": "stdout",
     "output_type": "stream",
     "text": [
      "Epoch 11\n",
      "Train accuracy: 0.40614442567567566\n",
      "Val accuracy: 0.371520078837152\n"
     ]
    },
    {
     "data": {
      "image/png": "[encoded data removed]",
      "text/plain": [
       "<Figure size 432x288 with 1 Axes>"
      ]
     },
     "metadata": {
      "needs_background": "light"
     },
     "output_type": "display_data"
    },
    {
     "name": "stdout",
     "output_type": "stream",
     "text": [
      "Epoch 12\n",
      "Train accuracy: 0.4224028716216216\n",
      "Val accuracy: 0.3890120719389012\n"
     ]
    },
    {
     "data": {
      "image/png": "[encoded data removed]",
      "text/plain": [
       "<Figure size 432x288 with 1 Axes>"
      ]
     },
     "metadata": {
      "needs_background": "light"
     },
     "output_type": "display_data"
    },
    {
     "name": "stdout",
     "output_type": "stream",
     "text": [
      "Epoch 13\n",
      "Train accuracy: 0.43760557432432434\n",
      "Val accuracy: 0.4077358955407736\n"
     ]
    },
    {
     "data": {
      "image/png": "[encoded data removed]",
      "text/plain": [
       "<Figure size 432x288 with 1 Axes>"
      ]
     },
     "metadata": {
      "needs_background": "light"
     },
     "output_type": "display_data"
    },
    {
     "name": "stdout",
     "output_type": "stream",
     "text": [
      "Epoch 14\n",
      "Train accuracy: 0.453125\n",
      "Val accuracy: 0.42374969204237495\n"
     ]
    },
    {
     "data": {
      "image/png": "[encoded data removed]",
      "text/plain": [
       "<Figure size 432x288 with 1 Axes>"
      ]
     },
     "metadata": {
      "needs_background": "light"
     },
     "output_type": "display_data"
    },
    {
     "name": "stdout",
     "output_type": "stream",
     "text": [
      "Epoch 15\n",
      "Train accuracy: 0.4719172297297297\n",
      "Val accuracy: 0.4434589800443459\n"
     ]
    },
    {
     "data": {
      "image/png": "[encoded data removed]",
      "text/plain": [
       "<Figure size 432x288 with 1 Axes>"
      ]
     },
     "metadata": {
      "needs_background": "light"
     },
     "output_type": "display_data"
    },
    {
     "name": "stdout",
     "output_type": "stream",
     "text": [
      "Epoch 16\n",
      "Train accuracy: 0.48933699324324326\n",
      "Val accuracy: 0.46316826804631683\n"
     ]
    },
    {
     "data": {
      "image/png": "[encoded data removed]",
      "text/plain": [
       "<Figure size 432x288 with 1 Axes>"
      ]
     },
     "metadata": {
      "needs_background": "light"
     },
     "output_type": "display_data"
    },
    {
     "name": "stdout",
     "output_type": "stream",
     "text": [
      "Epoch 17\n",
      "Train accuracy: 0.5032728040540541\n",
      "Val accuracy: 0.4816457255481646\n"
     ]
    },
    {
     "data": {
      "image/png": "[encoded data removed]",
      "text/plain": [
       "<Figure size 432x288 with 1 Axes>"
      ]
     },
     "metadata": {
      "needs_background": "light"
     },
     "output_type": "display_data"
    },
    {
     "name": "stdout",
     "output_type": "stream",
     "text": [
      "Epoch 18\n",
      "Train accuracy: 0.5191089527027027\n",
      "Val accuracy: 0.49815225424981524\n"
     ]
    },
    {
     "data": {
      "image/png": "[encoded data removed]",
      "text/plain": [
       "<Figure size 432x288 with 1 Axes>"
      ]
     },
     "metadata": {
      "needs_background": "light"
     },
     "output_type": "display_data"
    },
    {
     "name": "stdout",
     "output_type": "stream",
     "text": [
      "Epoch 19\n",
      "Train accuracy: 0.5373733108108109\n",
      "Val accuracy: 0.5146587829514658\n"
     ]
    },
    {
     "data": {
      "image/png": "[encoded data removed]",
      "text/plain": [
       "<Figure size 432x288 with 1 Axes>"
      ]
     },
     "metadata": {
      "needs_background": "light"
     },
     "output_type": "display_data"
    },
    {
     "name": "stdout",
     "output_type": "stream",
     "text": [
      "Epoch 20\n",
      "Train accuracy: 0.547825168918919\n",
      "Val accuracy: 0.5289480167528948\n"
     ]
    },
    {
     "data": {
      "image/png": "[encoded data removed]",
      "text/plain": [
       "<Figure size 432x288 with 1 Axes>"
      ]
     },
     "metadata": {
      "needs_background": "light"
     },
     "output_type": "display_data"
    },
    {
     "name": "stdout",
     "output_type": "stream",
     "text": [
      "Epoch 21\n",
      "Train accuracy: 0.5590160472972973\n",
      "Val accuracy: 0.543729982754373\n"
     ]
    },
    {
     "data": {
      "image/png": "[encoded data removed]",
      "text/plain": [
       "<Figure size 432x288 with 1 Axes>"
      ]
     },
     "metadata": {
      "needs_background": "light"
     },
     "output_type": "display_data"
    },
    {
     "name": "stdout",
     "output_type": "stream",
     "text": [
      "Epoch 22\n",
      "Train accuracy: 0.5686233108108109\n",
      "Val accuracy: 0.5540773589554078\n"
     ]
    },
    {
     "data": {
      "image/png": "[encoded data removed]",
      "text/plain": [
       "<Figure size 432x288 with 1 Axes>"
      ]
     },
     "metadata": {
      "needs_background": "light"
     },
     "output_type": "display_data"
    },
    {
     "name": "stdout",
     "output_type": "stream",
     "text": [
      "Epoch 23\n",
      "Train accuracy: 0.5775971283783784\n",
      "Val accuracy: 0.5639320029563932\n"
     ]
    },
    {
     "data": {
      "image/png": "[encoded data removed]",
      "text/plain": [
       "<Figure size 432x288 with 1 Axes>"
      ]
     },
     "metadata": {
      "needs_background": "light"
     },
     "output_type": "display_data"
    },
    {
     "name": "stdout",
     "output_type": "stream",
     "text": [
      "Epoch 24\n",
      "Train accuracy: 0.5863597972972973\n",
      "Val accuracy: 0.5740330130574033\n"
     ]
    },
    {
     "data": {
      "image/png": "[encoded data removed]",
      "text/plain": [
       "<Figure size 432x288 with 1 Axes>"
      ]
     },
     "metadata": {
      "needs_background": "light"
     },
     "output_type": "display_data"
    },
    {
     "name": "stdout",
     "output_type": "stream",
     "text": [
      "precision: 0.6568010895960275\n",
      "recall: 0.5830547474773904\n",
      "f1: 0.5697323811611611\n",
      "accuracy: 0.5740330130574033\n",
      "Confusion matrix: \n",
      "[[ 602  210  557]\n",
      " [  19  629  775]\n",
      " [ 132   36 1099]]\n"
     ]
    }
   ],
   "source": [
    "from IPython.display import clear_output\n",
    "import numpy as np\n",
    "\n",
    "network = MLP([10, 15, 20, 3], len(inputs))\n",
    "\n",
    "train_log = []\n",
    "val_log = []\n",
    "\n",
    "for epoch in range(25):\n",
    "    network.fit(x_train, y_train.tolist())   \n",
    "    train_log.append(np.mean(network.predict(x_train) == y_train))\n",
    "    val_log.append(np.mean(network.predict(x_test) == y_test))\n",
    "    #clear_output()\n",
    "    print(\"Epoch\", epoch)\n",
    "    print(\"Train accuracy:\", train_log[-1])\n",
    "    print(\"Val accuracy:\", val_log[-1])  \n",
    "    plt.plot(train_log,label = 'train accuracy')\n",
    "    plt.plot(val_log,label = 'val accuracy')\n",
    "    plt.legend(loc = 'best')\n",
    "    plt.grid()\n",
    "    plt.show()\n",
    "\n",
    "y_pred = network.predict(x_test)\n",
    "\n",
    "eval = Evaluate(y_test.tolist(), y_pred.tolist())\n",
    "eval.get_evaluation_report()"
   ]
  },
  {
   "cell_type": "markdown",
   "metadata": {
    "id": "ygud3NX3b-wN"
   },
   "source": [
    "## Έτοιμο Multi-Layer Perceptron \n",
    "\n",
    "Όπως και με τις τεχνικές των παραπάνω ερωτημάτων έτσι και εδώ υπάρχει έτοιμη η παραπάνω κλάση σε διάφορες βιβλιοθήκες. Έτσι στο δεύτερο μέρος του ερωτήματος αυτού θα κατασκευάσετε το ίδιο MLP χρησιμοποιώντας όμως την έτοιμη κλάση [MLPClassifier](https://scikit-learn.org/stable/modules/generated/sklearn.neural_network.MLPClassifier.html)  της βιβλιοθήκης scikit-learn. Παρακάτω παρουσιάζεται ένα παράδειγμα χρήσης της κλάσης αυτής. "
   ]
  },
  {
   "cell_type": "code",
   "execution_count": 105,
   "metadata": {
    "id": "hltXBE2Vbojo"
   },
   "outputs": [
    {
     "name": "stdout",
     "output_type": "stream",
     "text": [
      "precision: 0.7345673681607144\n",
      "recall: 0.7272256856268368\n",
      "f1: 0.725306481346311\n",
      "accuracy: 0.7270263611727026\n",
      "Confusion matrix: \n",
      "[[ 855  218  296]\n",
      " [  56 1123  244]\n",
      " [ 156  138  973]]\n"
     ]
    },
    {
     "name": "stderr",
     "output_type": "stream",
     "text": [
      "C:\\Users\\OWNER\\anaconda3\\lib\\site-packages\\sklearn\\neural_network\\_multilayer_perceptron.py:692: ConvergenceWarning: Stochastic Optimizer: Maximum iterations (25) reached and the optimization hasn't converged yet.\n",
      "  warnings.warn(\n"
     ]
    }
   ],
   "source": [
    "from sklearn.neural_network import MLPClassifier\n",
    "\n",
    "epochs = 25\n",
    "mlp = MLPClassifier(hidden_layer_sizes=(10, 15, 20), max_iter = epochs)\n",
    "\n",
    "mlp.fit(x_train.tolist(),y_train.tolist())\n",
    "\n",
    "y_pred = mlp.predict(x_test.tolist())\n",
    "eval = Evaluate(y_test.tolist(), y_pred)\n",
    "eval.get_evaluation_report()"
   ]
  },
  {
   "cell_type": "markdown",
   "metadata": {
    "id": "DOQYML9wcDBk"
   },
   "source": [
    "## Σύγκριση υλοποιήσεων \n",
    "\n",
    "  \n",
    "\n",
    "Στα παρακάτω κελιά πειραματιστείτε με τις δύο υλοποιήσεις (τη δική σας και την έτοιμη). Συγκρίνετε τα αποτελέσματά σας τόσο ως προς τους χρόνους εκτέλεσης αλλά και ως προς τα αποτελέσματα. Η διαφορά των αποτελεσμάτων προκύπτει από το ότι στην έτοιμη κλάση έχουν γίνει αρκετές βελτιστοποιήσεις στην λειτουργία, στον τρόπο εκπαίδευσης κ.α. με αποτέλεσμα να προκύπτουν καλύτερα αποτέλεσματα. Παρόλα αυτά στην δική μας κλάση έχουμε καλύτερο έλεγχο και έχουμε την δυνατότητα να σχεδιάσουμε πιο σύνθετες αρχιτεκτονικές καθώς να αλλάξουμε τις τιμές παραμέτρων που στην έτοιμη κλάση μπορεί να μην μας δίνεται η δυνατότητα. \n"
   ]
  },
  {
   "cell_type": "code",
   "execution_count": 95,
   "metadata": {},
   "outputs": [
    {
     "name": "stdout",
     "output_type": "stream",
     "text": [
      "Wall time: 10.1 s\n"
     ]
    }
   ],
   "source": [
    "%%time\n",
    "network = MLP([10, 15, 20, 3], len(inputs))\n",
    "\n",
    "for epoch in range(1000):\n",
    "    network.fit(x_train, y_train.tolist())   \n",
    "\n",
    "y_pred = network.predict(x_test)"
   ]
  },
  {
   "cell_type": "code",
   "execution_count": 96,
   "metadata": {},
   "outputs": [
    {
     "name": "stdout",
     "output_type": "stream",
     "text": [
      "precision: 0.7425923534178013\n",
      "recall: 0.7202435112225958\n",
      "f1: 0.716920627648384\n",
      "accuracy: 0.7166789849716679\n",
      "Confusion matrix: \n",
      "[[ 827  144  398]\n",
      " [  76 1001  346]\n",
      " [ 116   70 1081]]\n"
     ]
    }
   ],
   "source": [
    "eval = Evaluate(y_test.tolist(), y_pred.tolist())\n",
    "eval.get_evaluation_report()"
   ]
  },
  {
   "cell_type": "code",
   "execution_count": 101,
   "metadata": {},
   "outputs": [
    {
     "name": "stdout",
     "output_type": "stream",
     "text": [
      "Wall time: 2.09 s\n"
     ]
    }
   ],
   "source": [
    "%%time\n",
    "network = MLP([100, 200, 100, 10], len(inputs))\n",
    "\n",
    "for epoch in range(25):\n",
    "    network.fit(x_train, y_train.tolist())   \n",
    "\n",
    "y_pred = network.predict(x_test)"
   ]
  },
  {
   "cell_type": "code",
   "execution_count": 102,
   "metadata": {
    "scrolled": true
   },
   "outputs": [
    {
     "name": "stdout",
     "output_type": "stream",
     "text": [
      "precision: 0.6579424903665421\n",
      "recall: 0.5643540186742474\n",
      "f1: 0.5397557702663254\n",
      "accuracy: 0.5538309928553831\n",
      "Confusion matrix: \n",
      "[[ 813   68  488]\n",
      " [ 132  386  905]\n",
      " [ 214    4 1049]]\n"
     ]
    }
   ],
   "source": [
    "eval = Evaluate(y_test.tolist(), y_pred.tolist())\n",
    "eval.get_evaluation_report()"
   ]
  },
  {
   "cell_type": "code",
   "execution_count": 110,
   "metadata": {},
   "outputs": [
    {
     "name": "stdout",
     "output_type": "stream",
     "text": [
      "Wall time: 6.29 s\n"
     ]
    }
   ],
   "source": [
    "%%time\n",
    "mlp = MLPClassifier(hidden_layer_sizes=(10, 15, 20), max_iter = 1000)\n",
    "\n",
    "mlp.fit(x_train.tolist(),y_train.tolist())\n",
    "\n",
    "y_pred = mlp.predict(x_test.tolist())"
   ]
  },
  {
   "cell_type": "code",
   "execution_count": 111,
   "metadata": {
    "scrolled": true
   },
   "outputs": [
    {
     "name": "stdout",
     "output_type": "stream",
     "text": [
      "precision: 0.7408239413172532\n",
      "recall: 0.7374045855070336\n",
      "f1: 0.7372415133314253\n",
      "accuracy: 0.7371273712737128\n",
      "Confusion matrix: \n",
      "[[ 989  120  260]\n",
      " [ 137 1053  233]\n",
      " [ 222   95  950]]\n"
     ]
    }
   ],
   "source": [
    "eval = Evaluate(y_test.tolist(), y_pred)\n",
    "eval.get_evaluation_report()"
   ]
  },
  {
   "cell_type": "code",
   "execution_count": 116,
   "metadata": {},
   "outputs": [
    {
     "name": "stdout",
     "output_type": "stream",
     "text": [
      "Wall time: 1min 29s\n"
     ]
    }
   ],
   "source": [
    "%%time\n",
    "mlp = MLPClassifier(hidden_layer_sizes=(100, 200, 100, 100), max_iter = 1000)\n",
    "\n",
    "mlp.fit(x_train.tolist(),y_train.tolist())\n",
    "\n",
    "y_pred = mlp.predict(x_test.tolist())"
   ]
  },
  {
   "cell_type": "code",
   "execution_count": 117,
   "metadata": {},
   "outputs": [
    {
     "name": "stdout",
     "output_type": "stream",
     "text": [
      "precision: 0.7158701272441591\n",
      "recall: 0.7125027153794715\n",
      "f1: 0.7126045796298589\n",
      "accuracy: 0.7127371273712737\n",
      "Confusion matrix: \n",
      "[[ 938  133  298]\n",
      " [ 135 1048  240]\n",
      " [ 240  120  907]]\n"
     ]
    }
   ],
   "source": [
    "eval = Evaluate(y_test.tolist(), y_pred)\n",
    "eval.get_evaluation_report()"
   ]
  },
  {
   "cell_type": "markdown",
   "metadata": {
    "id": "gfrx064gcCr8"
   },
   "source": [
    "# Αξιολόγηση- Συμπεράσματα \n",
    "\n",
    "  \n",
    "\n",
    "Τέλος στο σημείο αυτό καλείστε να αξιολογήσετε τις διάφορες τεχνικές ταξινόμησης (KNN, Naive Bayes, MLP), τα αποτελέσματά τους, τους χρόνους εκτέλεσης, και να παραθέσετε παρατηρήσεις καθώς και οτιδήποτε σας φάνηκε ενδιαφέρον ή ιδιαίτερο. \n",
    "\n"
   ]
  },
  {
   "cell_type": "markdown",
   "metadata": {
    "id": "mg-H_2wECiP5"
   },
   "source": [
    "Απάντηση/Σχολιασμός:\n",
    "\n",
    "Σε όλες τις τεχνικές ταξινόμησης είχαμε περίπου ίδιες αποδόσεις, γύρω στο 0.7 για τα metrics. Τις πιο υψηλές τις πετυχαίνει ο έτοιμος MLP, ενώ όσο πιο περίπλοκος είναι και όσες περισσότερες εποχές τρέχει τόσο καλύτερη είναι και η απόδοση με κόστος όμως σε χρόνο και υπολογιστικούς πόρους.\n",
    "\n",
    "Ενδιαφέρον αποτελεί το γεγονός οτι όσο περισσότερο αυξάνουμε την πολυπλοκότητα του κάθε ταξινομητή, με σκοπό να πετύχουμε καλύτερα Metrics, τόσο βραδύτερα αυξάνεται και η απόδοση, ενώ είναι πιθανό να μην μπορεί να ξεπεράσει ορισμένες τιμές.\n",
    "\n"
   ]
  }
 ],
 "metadata": {
  "colab": {
   "collapsed_sections": [],
   "name": "student_version_ai_ex_3_MUSIC_2021.ipynb",
   "provenance": [
    {
     "file_id": "1jMcmgh8zbZCqnsWi79MccGxGI0K6zqLP",
     "timestamp": 1639639410795
    }
   ]
  },
  "kernelspec": {
   "display_name": "Python 3",
   "language": "python",
   "name": "python3"
  },
  "language_info": {
   "codemirror_mode": {
    "name": "ipython",
    "version": 3
   },
   "file_extension": ".py",
   "mimetype": "text/x-python",
   "name": "python",
   "nbconvert_exporter": "python",
   "pygments_lexer": "ipython3",
   "version": "3.8.8"
  }
 },
 "nbformat": 4,
 "nbformat_minor": 1
}
