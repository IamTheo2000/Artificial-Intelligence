{
 "cells": [
  {
   "cell_type": "code",
   "execution_count": 1,
   "id": "8b59606d",
   "metadata": {},
   "outputs": [],
   "source": [
    "# Η βιβλιοθήκη pandas είναι χρήσιμη για την εργασία με τέτοια δεδομένα\n",
    "import pandas as pd\n",
    "from pyswip import Prolog\n",
    " \n",
    "# Διάβασμα του αρχείου 'movie_metadata.csv' \n",
    "path = r\"C:\\Users\\OWNER\\Desktop\\AI Σειρα 2\\2ο Θέμα\"\n",
    "data = pd.read_csv(path + \"\\movies_metadata.csv\") \n",
    "#Στο csv υπαρχούν κελία με nan τιμές\n",
    "#Στις θέσεις αυτές βάζουμε 'UNK' πράγμα που  κάνουμε με την παρακάτω συνάρτηση\n",
    "data.fillna(\"UNK\", inplace=True)\n",
    "# Preview the first 5 lines of the loaded data \n"
   ]
  },
  {
   "cell_type": "code",
   "execution_count": 2,
   "id": "bfb8ae0e",
   "metadata": {},
   "outputs": [],
   "source": [
    "import pandas as pd\n",
    "from pyswip import Prolog\n",
    "\n",
    "def clean_text(text):\n",
    "  text = text.replace(u'\\xa0', u'')\n",
    "  text = text.replace(u\"'\", u'')\n",
    "  return text\n",
    "\n",
    "#create World\n",
    "#Ορίζουμε τον κόσμο μας\n",
    "prolog = Prolog()\n",
    "\n",
    "#Για κάθε row του πίνακα φτιάχνουμε τα κατηγορήματα που θέλουμε να αποθηκέυσουμε\n",
    "#αρχικά σε μια λίστα με το όνομα literals\n",
    "literals = []\n",
    "movie_score = {}\n",
    " \n",
    "for row in data.itertuples(index=True, name='Pandas'):\n",
    "  movie_title = clean_text(getattr(row, 'movie_title'))\n",
    "\n",
    "#ids epeidh oi titloi Out of the blue, Batman, The host yparxoun parapanw apo 2 fores\n",
    "  ident = getattr(row, 'id')\n",
    "  literals.append(\"identification('\"+ movie_title +\"','\"+ str(ident) +\"')\")\n",
    "\n",
    "#plot keywords\n",
    "  for plotkeys in getattr(row, 'plot_keywords').split(\"|\"):\n",
    "    plot = clean_text(plotkeys)\n",
    "    literals.append(\"plot('\"+ str(ident) +\"','\"+ plot +\"')\")\n",
    "\n",
    "#language\n",
    "  lang = getattr(row, 'language')\n",
    "  literals.append(\"language('\"+ str(ident) +\"','\"+ lang +\"')\")\n",
    "\n",
    "#genre\n",
    "  for genre in getattr(row, 'genres').split(\"|\"):\n",
    "    literals.append(\"genre('\"+ str(ident) +\"','\"+ genre +\"')\")\n",
    "\n",
    "#popularity\n",
    "  pop = getattr(row, 'popularity')\n",
    "  literals.append(\"popularity('\"+ str(ident) +\"','\"+ str(pop) +\"')\")  # den evala int alla string\n",
    "\n",
    "#production company\n",
    "  comp = getattr(row, 'production_companies')\n",
    "  if comp != '[]':\n",
    "    arr = comp.replace('[','').replace('}]','').split('}, ')\n",
    "    for s in arr:\n",
    "      s = clean_text(s).replace('{name: ','').replace(', id: ',',').split(',')[0]\n",
    "      literals.append(\"production_company('\"+ str(ident) +\"','\"+ s +\"')\")\n",
    "  else:\n",
    "    literals.append(\"production_company('\"+ str(ident) +\"','\"\"')\") #indie\n",
    "\n",
    "#production country\n",
    "  countries = getattr(row, 'production_countries')\n",
    "  if countries != '[]':\n",
    "    countries = countries.replace('[','').replace('}]','').split('}, ')\n",
    "    for s in countries:\n",
    "      s = clean_text(s).replace('name: ','').replace(', id: ',',').split(',')[1]\n",
    "      literals.append(\"production_country('\"+ str(ident) +\"','\"+ s +\"')\")\n",
    "  else:\n",
    "    literals.append(\"production_country('\"+ str(ident) +\"','\"\"')\")\n",
    "\n",
    "#release date\n",
    "  date = getattr(row, 'release_date')\n",
    "  literals.append(\"release_date('\"+ str(ident) +\"','\"+ date +\"')\")\n",
    "\n",
    "#duration\n",
    "  dur = getattr(row, 'duration')\n",
    "  literals.append(\"duration('\"+ str(ident) +\"','\"+ str(dur) +\"')\")\n",
    "\n",
    "#languages spoken\n",
    "  slang = getattr(row, 'spoken_languages')\n",
    "  if slang != '[]':\n",
    "    slang = slang.replace('[','').replace('}]','').split('}, ')\n",
    "    for s in slang:\n",
    "      s = clean_text(s).replace('name: ','').replace(', id: ',',').split(',')[1]\n",
    "      literals.append(\"spoken_languages('\"+ str(ident) +\"','\"+ s +\"')\")\n",
    "  else:\n",
    "    literals.append(\"spoken_languages('\"+ str(ident) +\"','\"\"')\")\n",
    "\n",
    "#reviews\n",
    "  avg = getattr(row, 'vote_average')\n",
    "  literals.append(\"vote_average('\"+ str(ident) +\"','\"+ str(avg) +\"')\")\n",
    "\n",
    "#year\n",
    "  year = getattr(row, 'title_year')\n",
    "  literals.append(\"title_year('\"+ str(ident) +\"','\"+ str(year) +\"')\")\n",
    "\n",
    "#director\n",
    "  director = getattr(row, 'director_name')\n",
    "  literals.append(\"director('\"+ str(ident) +\"','\"+ clean_text(director) +\"')\")\n",
    "\n",
    "#actor1\n",
    "  actor1 = getattr(row, 'actor_1_name')\n",
    "  literals.append(\"actor_1('\"+ str(ident) +\"','\"+ clean_text(actor1) +\"')\")\n",
    "\n",
    "#actor2\n",
    "  actor2 = getattr(row, 'actor_2_name')\n",
    "  literals.append(\"actor_2('\"+ str(ident) +\"','\"+ clean_text(actor2) +\"')\")\n",
    "\n",
    "#actor3\n",
    "  actor3 = getattr(row, 'actor_3_name')\n",
    "  literals.append(\"actor_3('\"+ str(ident) +\"','\"+ clean_text(actor3) +\"')\")\n",
    "    \n",
    "#Η Prolog θέλει τα κατηγορήματά της με την σειρά \n",
    "literals.sort()\n",
    "for literal in literals:\n",
    "  prolog.assertz(literal)\n",
    "  #print (literal +'.')"
   ]
  },
  {
   "cell_type": "code",
   "execution_count": 3,
   "id": "7825499f",
   "metadata": {},
   "outputs": [],
   "source": [
    "import pandas as pd\n",
    "from pyswip import Prolog\n",
    "\n",
    "prolog = Prolog()\n",
    "changeme = \"/Users/OWNER/Desktop/testdrive.pl\"\n",
    "prolog.consult(changeme)"
   ]
  },
  {
   "cell_type": "code",
   "execution_count": 22,
   "id": "d4f4eff0",
   "metadata": {},
   "outputs": [],
   "source": [
    "def s_recommender(movie):\n",
    "    q1 = prolog.query(\"esp_vg('\" + movie +\"',L)\")\n",
    "    esp_vg = next(q1)\n",
    "    esp_vg = {variable: [str(elem) for elem in esp_vg[variable]] for variable in esp_vg}\n",
    "    q1.close()\n",
    "    \n",
    "    q2 = prolog.query(\"esp_sg('\" + movie +\"',L)\")\n",
    "    esp_sg = next(q2)\n",
    "    esp_sg = {variable: [str(elem) for elem in esp_sg[variable]] for variable in esp_sg}    \n",
    "    q2.close()\n",
    "    \n",
    "    q3 = prolog.query(\"esp_pg('\" + movie +\"',L)\")\n",
    "    esp_pg = next(q3)\n",
    "    esp_pg = {variable: [str(elem) for elem in esp_pg[variable]] for variable in esp_pg}    \n",
    "    q3.close()\n",
    "    \n",
    "    q4 = prolog.query(\"es_plot('\" + movie +\"',L)\")\n",
    "    esp = next(q4)\n",
    "    esp = {variable: [str(elem) for elem in esp[variable]] for variable in esp}    \n",
    "    q4.close()\n",
    "    \n",
    "    L1 = esp_vg['L']\n",
    "    L2 = esp_sg['L']\n",
    "    L3 = esp_pg['L']\n",
    "    L4 = esp['L']\n",
    "    \n",
    "    for movie in L4:\n",
    "        if movie in L1 or movie in L2 or movie in L3:\n",
    "            L4.remove(movie)\n",
    "            \n",
    "    answer = L1 + L2 + L3 + L4\n",
    "     \n",
    "    return answer\n",
    "\n",
    "def a_recommender(movie):\n",
    "    q1 = prolog.query(\"vsp_vg('\" + movie +\"',L)\")\n",
    "    vsp_vg = next(q1)\n",
    "    vsp_vg = {variable: [str(elem) for elem in vsp_vg[variable]] for variable in vsp_vg}\n",
    "    q1.close()\n",
    "    \n",
    "    q2 = prolog.query(\"vsp_sg('\" + movie +\"',L)\")\n",
    "    vsp_sg = next(q2)\n",
    "    vsp_sg = {variable: [str(elem) for elem in vsp_sg[variable]] for variable in vsp_sg}    \n",
    "    q2.close()\n",
    "    \n",
    "    q3 = prolog.query(\"vsp_pg('\" + movie +\"',L)\")\n",
    "    vsp_pg = next(q3)\n",
    "    vsp_pg = {variable: [str(elem) for elem in vsp_pg[variable]] for variable in vsp_pg}    \n",
    "    q3.close()\n",
    "    \n",
    "    q4 = prolog.query(\"vs_plot('\" + movie +\"',L)\")\n",
    "    vsp = next(q4)\n",
    "    vsp = {variable: [str(elem) for elem in vsp[variable]] for variable in vsp}    \n",
    "    q4.close()\n",
    "    \n",
    "    L1 = vsp_vg['L']\n",
    "    L2 = vsp_sg['L']\n",
    "    L3 = vsp_pg['L']\n",
    "    L4 = vsp['L']\n",
    "    \n",
    "    for movie in L4:\n",
    "        if movie in L1 or movie in L2 or movie in L3:\n",
    "            L4.remove(movie)\n",
    "    \n",
    "    answer = L1 + L2 + L3 + L4\n",
    "     \n",
    "    return answer\n",
    "\n",
    "def b_recommender(movie):\n",
    "    q1 = prolog.query(\"sp_vg('\" + movie +\"',L)\")\n",
    "    sp_vg = next(q1)\n",
    "    sp_vg = {variable: [str(elem) for elem in sp_vg[variable]] for variable in sp_vg}\n",
    "    q1.close()\n",
    "    \n",
    "    q2 = prolog.query(\"sp_sg('\" + movie +\"',L)\")\n",
    "    sp_sg = next(q2)\n",
    "    sp_sg = {variable: [str(elem) for elem in sp_sg[variable]] for variable in sp_sg}    \n",
    "    q2.close()\n",
    "    \n",
    "    q3 = prolog.query(\"sp_pg('\" + movie +\"',L)\")\n",
    "    sp_pg = next(q3)\n",
    "    sp_pg = {variable: [str(elem) for elem in sp_pg[variable]] for variable in sp_pg}    \n",
    "    q3.close()\n",
    "    \n",
    "    q4 = prolog.query(\"s_plot('\" + movie +\"',L)\")\n",
    "    sp = next(q4)\n",
    "    sp = {variable: [str(elem) for elem in sp[variable]] for variable in sp}    \n",
    "    q4.close()\n",
    "    \n",
    "    q5 = prolog.query(\"vs_genre('\" + movie +\"',L)\")\n",
    "    vsg = next(q5)\n",
    "    vsg = {variable: [str(elem) for elem in vsg[variable]] for variable in vsg}    \n",
    "    q5.close()\n",
    "    \n",
    "    L1 = sp_vg['L']\n",
    "    L2 = sp_sg['L']\n",
    "    L3 = sp_pg['L']\n",
    "    L4 = sp['L']\n",
    "    L5 = vsg['L']\n",
    "    \n",
    "    for movie in L4:\n",
    "        if movie in L1 or movie in L2 or movie in L3:\n",
    "            L4.remove(movie)\n",
    "    \n",
    "    answer = L1 + L2 + L3 + L4\n",
    "     \n",
    "    return answer"
   ]
  },
  {
   "cell_type": "code",
   "execution_count": 23,
   "id": "eea3e44e",
   "metadata": {},
   "outputs": [
    {
     "data": {
      "text/plain": [
       "['Harry Potter and the Chamber of Secrets',\n",
       " 'Harry Potter and the Goblet of Fire',\n",
       " 'Harry Potter and the Order of the Phoenix',\n",
       " 'Harry Potter and the Philosophers Stone',\n",
       " 'Harry Potter and the Prisoner of Azkaban',\n",
       " 'Harry Potter and the Goblet of Fire',\n",
       " 'Harry Potter and the Philosophers Stone']"
      ]
     },
     "execution_count": 23,
     "metadata": {},
     "output_type": "execute_result"
    }
   ],
   "source": [
    "s_recommender('Harry Potter and the Half-Blood Prince')"
   ]
  },
  {
   "cell_type": "code",
   "execution_count": 24,
   "id": "20ed3662",
   "metadata": {},
   "outputs": [
    {
     "data": {
      "text/plain": [
       "['Oz: The Great and Powerful',\n",
       " 'Spirited Away',\n",
       " 'Conan the Destroyer',\n",
       " 'Hotel Transylvania',\n",
       " 'In the Name of the King: A Dungeon Siege Tale',\n",
       " 'The Sorcerers Apprentice',\n",
       " 'Warlock',\n",
       " 'Goosebumps',\n",
       " 'Hotel Transylvania 2',\n",
       " 'Practical Magic',\n",
       " 'The Craft',\n",
       " 'The Huntsman: Winters War',\n",
       " 'Goosebumps',\n",
       " 'Hotel Transylvania',\n",
       " 'Oz: The Great and Powerful',\n",
       " 'Spirited Away',\n",
       " 'The Huntsman: Winters War',\n",
       " 'Warlock']"
      ]
     },
     "execution_count": 24,
     "metadata": {},
     "output_type": "execute_result"
    }
   ],
   "source": [
    "a_recommender('Harry Potter and the Half-Blood Prince')"
   ]
  },
  {
   "cell_type": "code",
   "execution_count": 25,
   "id": "fe722d9f",
   "metadata": {},
   "outputs": [
    {
     "data": {
      "text/plain": [
       "['A Simple Wish',\n",
       " 'Aladdin',\n",
       " 'Asterix at the Olympic Games',\n",
       " 'Last Action Hero',\n",
       " 'Pan',\n",
       " 'Shrek 2',\n",
       " 'Shrek',\n",
       " 'Stardust',\n",
       " 'The Chronicles of Narnia: The Lion, the Witch and the Wardrobe',\n",
       " 'The Chronicles of Narnia: The Voyage of the Dawn Treader',\n",
       " 'The NeverEnding Story',\n",
       " 'The Smurfs',\n",
       " 'The Thief and the Cobbler',\n",
       " 'The Wizard of Oz',\n",
       " 'Thunder and the House of Magic',\n",
       " 'Time Bandits',\n",
       " 'Big Fish',\n",
       " 'Big Trouble in Little China',\n",
       " 'Bogus',\n",
       " 'Cinderella',\n",
       " 'Ella Enchanted',\n",
       " 'Happily NEver After',\n",
       " 'Hocus Pocus',\n",
       " 'Howls Moving Castle',\n",
       " 'Mary Poppins',\n",
       " 'Nanny McPhee',\n",
       " 'Pirates of the Caribbean: Dead Mans Chest',\n",
       " 'Seventh Son',\n",
       " 'Snow White and the Huntsman',\n",
       " 'Snow White and the Seven Dwarfs',\n",
       " 'Teen Wolf Too',\n",
       " 'The 13th Warrior',\n",
       " 'The Covenant',\n",
       " 'The Haunted Mansion',\n",
       " 'The Last Witch Hunter',\n",
       " 'The Mortal Instruments: City of Bones',\n",
       " 'The Santa Clause 2',\n",
       " 'The Twilight Saga: Eclipse',\n",
       " 'The Twilight Saga: New Moon',\n",
       " 'Underworld: Rise of the Lycans',\n",
       " 'Warcraft',\n",
       " 'Army of Darkness',\n",
       " 'Beautiful Creatures',\n",
       " 'Being John Malkovich',\n",
       " 'Blood and Chocolate',\n",
       " 'Dark Shadows',\n",
       " 'DragonHeart',\n",
       " 'Dragonslayer',\n",
       " 'Dune',\n",
       " 'Hansel & Gretel: Witch Hunters',\n",
       " 'Hoodwinked Too! Hood VS. Evil',\n",
       " 'Into the Woods',\n",
       " 'Kung Fu Hustle',\n",
       " 'Meet Joe Black',\n",
       " 'Night Watch',\n",
       " 'Now You See Me 2',\n",
       " 'Pinocchio',\n",
       " 'Red Riding Hood',\n",
       " 'Sleepover',\n",
       " 'Tangled',\n",
       " 'The Addams Family',\n",
       " 'The Illusionist',\n",
       " 'The Medallion',\n",
       " 'Underworld',\n",
       " 'Underworld: Awakening',\n",
       " 'Underworld: Evolution',\n",
       " 'Wolf',\n",
       " 'A Very Long Engagement',\n",
       " 'An American Haunting',\n",
       " 'Asterix at the Olympic Games',\n",
       " 'Being John Malkovich',\n",
       " 'Big Trouble in Little China',\n",
       " 'Bogus',\n",
       " 'Book of Shadows: Blair Witch 2',\n",
       " 'Charlie Bartlett',\n",
       " 'Crazy/Beautiful',\n",
       " 'Cursed',\n",
       " 'Darkness Falls',\n",
       " 'Deceptive Practice: The Mysteries and Mentors of Ricky Jay',\n",
       " 'Dragonslayer',\n",
       " 'Dylan Dog: Dead of Night',\n",
       " 'Four Rooms',\n",
       " 'Fur: An Imaginary Portrait of Diane Arbus',\n",
       " 'Hansel and Gretel Get Baked',\n",
       " 'Hocus Pocus',\n",
       " 'Howls Moving Castle',\n",
       " 'Kung Fu Hustle',\n",
       " 'Mary Poppins',\n",
       " 'Nanny McPhee',\n",
       " 'Not Another Teen Movie',\n",
       " 'Now You See Me',\n",
       " 'Paranormal Activity 3',\n",
       " 'Pirates of the Caribbean: Dead Mans Chest',\n",
       " 'Scoop',\n",
       " 'Shrek 2',\n",
       " 'Sleepover',\n",
       " 'Snow White and the Seven Dwarfs',\n",
       " 'Summer Storm',\n",
       " 'Teen Wolf Too',\n",
       " 'The Addams Family',\n",
       " 'The Blair Witch Project',\n",
       " 'The Chronicles of Narnia: The Voyage of the Dawn Treader',\n",
       " 'The Crying Game',\n",
       " 'The Howling',\n",
       " 'The Immigrant',\n",
       " 'The Incredible Burt Wonderstone',\n",
       " 'The Lords of Salem',\n",
       " 'The Mortal Instruments: City of Bones',\n",
       " 'The Prestige',\n",
       " 'The Sisterhood of Night',\n",
       " 'The Thief and the Cobbler',\n",
       " 'The Twilight Saga: New Moon',\n",
       " 'The Witch',\n",
       " 'The Wolfman',\n",
       " 'Thumbsucker',\n",
       " 'Time Bandits',\n",
       " 'Underworld: Awakening',\n",
       " 'Underworld: Rise of the Lycans',\n",
       " 'Wolf',\n",
       " 'Wolves']"
      ]
     },
     "execution_count": 25,
     "metadata": {},
     "output_type": "execute_result"
    }
   ],
   "source": [
    "b_recommender('Harry Potter and the Half-Blood Prince')"
   ]
  },
  {
   "cell_type": "code",
   "execution_count": 30,
   "id": "b200c2d5",
   "metadata": {},
   "outputs": [],
   "source": [
    "from tqdm.notebook import tqdm\n",
    "from sklearn.metrics import precision_score, recall_score, f1_score\n",
    "import numpy as np\n",
    "import random\n",
    "\n",
    "rating_weights = {0: -1, 1: -0.5, 2:0, 3:0, 4:0.5, 5:1}\n",
    "score_weights = {i:i + 1 for i in range(3)} # ανάλογα με τα επίπεδα ομοιότητας που έχουν οριστεί στην simple_recommender\n",
    "\n",
    "def train_recommender(ratings, rating_weights, score_weights, number_of_movies = 10):\n",
    "    \"\"\"\n",
    "    Στην συνάρτηση αυτή μπορούμε να ορίζουμε ποιο υποσύνολο των αξιολογήσεων θα χρησιμοποιήσουμε για το train μαζί με τα βάρη ομοιότητας και σκορ\n",
    "    Σε συνδυασμό με τον αριθμό των ταινιών που θέλουμε να χρησιμοποιήσουμε σαν σύνολο δεδομένων π.χ. 10 από τις 100 ή 3 από τις 100 κ.ο.κ\n",
    "    Αν θέλουμε να χρησιμοποιήσουμε όλες τις ταινίες σαν training set τότε ορίζουμε το number_of_movies = - 1\n",
    "    \"\"\"\n",
    "\n",
    "    if number_of_movies > len(ratings):\n",
    "        number_of_movies = len(ratings)\n",
    "\n",
    "\n",
    "    if number_of_movies != -1:\n",
    "        indexes = random.sample(range(len(ratings)), number_of_movies)\n",
    "        ratings = ratings.iloc[indexes]\n",
    "\n",
    "    movie_score = {}\n",
    "    for row in tqdm(ratings.itertuples(index=True, name='Pandas')):\n",
    "        movie = clean_text(getattr(row, 'movie_title'))\n",
    "        rating = getattr(row, 'rating')\n",
    "\n",
    "        ps_movies = s_recommender(movie)\n",
    "        es_movies = a_recommender(movie)\n",
    "        vs_movies = b_recommender(movie)\n",
    "        \n",
    "        \n",
    "        for similar_movie in ps_movies:\n",
    "            if similar_movie not in movie_score:\n",
    "                movie_score[similar_movie] = rating_weights[int(rating)] * score_weights[2]\n",
    "            else:\n",
    "                movie_score[similar_movie] += rating_weights[int(rating)] * score_weights[2]\n",
    "                \n",
    "        for similar_movie in es_movies:\n",
    "            if similar_movie not in movie_score:\n",
    "                movie_score[similar_movie] = rating_weights[int(rating)] * score_weights[1]\n",
    "            else:\n",
    "                movie_score[similar_movie] += rating_weights[int(rating)] * score_weights[1]\n",
    "                \n",
    "        for similar_movie in vs_movies:\n",
    "            if similar_movie not in movie_score:\n",
    "                movie_score[similar_movie] = rating_weights[int(rating)] * score_weights[0]\n",
    "            else:\n",
    "                movie_score[similar_movie] += rating_weights[int(rating)] * score_weights[0]\n",
    "        \n",
    "    return movie_score\n",
    "\n",
    "\n",
    "#αυτό είναι ένα παράδειγμα για το πως θα μπορούσε να υλοποιήθει η predict\n",
    "#έχουμε ορίσει ότι μια ταινία θα έπρεπε να είναι προτεινόμενη αν είχε σκορ > 0\n",
    "def predict_example(ratings, movie_score):\n",
    "    real, pred = [], []\n",
    "    for i, row in enumerate(ratings.itertuples(index=True, name='Pandas')):\n",
    "        movie = clean_text(getattr(row, 'movie_title'))\n",
    "        rating = getattr(row, 'rating')\n",
    "\n",
    "        if movie in movie_score: #αν έχουμε σχηματίσει βαθμολογία για την ταινία αυτή\n",
    "            pred.append(int(movie_score[movie] > 0)) #heuristic για το αν μια ταινία είναι προτεινόμενη\n",
    "            real.append(int(rating > 3))# έτσι ορίζουμε ότι μια ταινία θα έπρεπε να είναι προτεινόμενη\n",
    "            #η συνθήκη αυτή δεν μπορεί να αλλάξει\n",
    "        else: #δεν μπορούμε να προτείνουμε κάτι για το όποιο δεν έχουμε σχηματίσει εικόνα\n",
    "            pred.append(0)\n",
    "            real.append(int(rating > 3))\n",
    "\n",
    "    return real, pred\n",
    "\n",
    "\n",
    "def get_metrics(real, pred):\n",
    "    metrics = {}\n",
    "    metrics[\"precision\"] = precision_score(real, pred)\n",
    "    metrics[\"recall\"] = recall_score(real, pred)\n",
    "    metrics[\"f1\"] = f1_score(real, pred)\n",
    "    return metrics"
   ]
  },
  {
   "cell_type": "code",
   "execution_count": 31,
   "id": "977d3c62",
   "metadata": {},
   "outputs": [
    {
     "data": {
      "application/vnd.jupyter.widget-view+json": {
       "model_id": "481633c4b4834acb957dd910b965feb8",
       "version_major": 2,
       "version_minor": 0
      },
      "text/plain": [
       "0it [00:00, ?it/s]"
      ]
     },
     "metadata": {},
     "output_type": "display_data"
    },
    {
     "data": {
      "application/vnd.jupyter.widget-view+json": {
       "model_id": "5ca26651c96b4e95aeb6582bd3fde894",
       "version_major": 2,
       "version_minor": 0
      },
      "text/plain": [
       "0it [00:00, ?it/s]"
      ]
     },
     "metadata": {},
     "output_type": "display_data"
    },
    {
     "data": {
      "application/vnd.jupyter.widget-view+json": {
       "model_id": "9cb7bfcadf8444368cf66e7c9500ed46",
       "version_major": 2,
       "version_minor": 0
      },
      "text/plain": [
       "0it [00:00, ?it/s]"
      ]
     },
     "metadata": {},
     "output_type": "display_data"
    },
    {
     "data": {
      "application/vnd.jupyter.widget-view+json": {
       "model_id": "42baef32e7e64e4e82a87317663830d8",
       "version_major": 2,
       "version_minor": 0
      },
      "text/plain": [
       "0it [00:00, ?it/s]"
      ]
     },
     "metadata": {},
     "output_type": "display_data"
    },
    {
     "data": {
      "application/vnd.jupyter.widget-view+json": {
       "model_id": "f8728869eeeb4387886e107135addc30",
       "version_major": 2,
       "version_minor": 0
      },
      "text/plain": [
       "0it [00:00, ?it/s]"
      ]
     },
     "metadata": {},
     "output_type": "display_data"
    },
    {
     "data": {
      "application/vnd.jupyter.widget-view+json": {
       "model_id": "de55815e95764604b67e0dc9281de611",
       "version_major": 2,
       "version_minor": 0
      },
      "text/plain": [
       "0it [00:00, ?it/s]"
      ]
     },
     "metadata": {},
     "output_type": "display_data"
    },
    {
     "data": {
      "application/vnd.jupyter.widget-view+json": {
       "model_id": "a4ca6ba1c797493b94bd0fff8ca675cd",
       "version_major": 2,
       "version_minor": 0
      },
      "text/plain": [
       "0it [00:00, ?it/s]"
      ]
     },
     "metadata": {},
     "output_type": "display_data"
    },
    {
     "data": {
      "application/vnd.jupyter.widget-view+json": {
       "model_id": "d29f21df812d45fe978ade767a76c283",
       "version_major": 2,
       "version_minor": 0
      },
      "text/plain": [
       "0it [00:00, ?it/s]"
      ]
     },
     "metadata": {},
     "output_type": "display_data"
    },
    {
     "data": {
      "application/vnd.jupyter.widget-view+json": {
       "model_id": "c4cd9f17ed344e4cb9eaa54d07e18cb4",
       "version_major": 2,
       "version_minor": 0
      },
      "text/plain": [
       "0it [00:00, ?it/s]"
      ]
     },
     "metadata": {},
     "output_type": "display_data"
    },
    {
     "data": {
      "application/vnd.jupyter.widget-view+json": {
       "model_id": "0f6de8c2b6254c95bd37227c93d3950f",
       "version_major": 2,
       "version_minor": 0
      },
      "text/plain": [
       "0it [00:00, ?it/s]"
      ]
     },
     "metadata": {},
     "output_type": "display_data"
    },
    {
     "name": "stdout",
     "output_type": "stream",
     "text": [
      "precision: 0.5541414055564999\n",
      "recall: 0.21527777777777776\n",
      "f1: 0.28774156546840624\n"
     ]
    }
   ],
   "source": [
    "train_ratings = pd.read_csv(path + \"\\\\train_ratings.csv\")\n",
    "test_ratings = pd.read_csv(path + \"\\\\test_ratings.csv\")\n",
    "metrics = []\n",
    "for i in range (10):\n",
    "    movie_score = train_recommender(train_ratings, rating_weights, score_weights, 10)\n",
    "    real, pred = predict_example(test_ratings, movie_score)\n",
    "    metrics.append(get_metrics(real, pred))\n",
    "\n",
    "for metric in metrics[0].keys():\n",
    "    print (f\"{metric}: {np.mean([m[metric] for m in metrics])}\")"
   ]
  },
  {
   "cell_type": "code",
   "execution_count": null,
   "id": "8f4cdb92",
   "metadata": {},
   "outputs": [],
   "source": []
  }
 ],
 "metadata": {
  "kernelspec": {
   "display_name": "Python 3",
   "language": "python",
   "name": "python3"
  },
  "language_info": {
   "codemirror_mode": {
    "name": "ipython",
    "version": 3
   },
   "file_extension": ".py",
   "mimetype": "text/x-python",
   "name": "python",
   "nbconvert_exporter": "python",
   "pygments_lexer": "ipython3",
   "version": "3.8.8"
  }
 },
 "nbformat": 4,
 "nbformat_minor": 5
}
